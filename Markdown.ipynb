{
 "cells": [
  {
   "cell_type": "markdown",
   "id": "88aa56fb",
   "metadata": {},
   "source": [
    "# Game plan\n",
    "\n",
    "- i supply an openai json and extract the functions i want\n",
    "- i build those functions dynamically\n",
    "- i describe what the agent should do and the structured types it should hold\n",
    "- i generate the final markdown\n",
    "- i test that the agent works\n",
    "- i save it\n",
    "- i make another few\n",
    "- i create a discovery system that chains them somehow"
   ]
  },
  {
   "cell_type": "code",
   "execution_count": null,
   "id": "c1dff773",
   "metadata": {},
   "outputs": [],
   "source": [
    "from funkyprompt.core.utils.openapi import Cache\n",
    "from funkyprompt.core.functions import Function\n",
    "\n",
    "d= Cache.resolve('https://data.resmagic.io/meta-one/docs#/default/get_body_margins_meta_one_bodies_margins_get')\n",
    "#d = Cache.resolve('https://data.resmagic.io/meta-one/docs#/default/get_nest_plot_for_sku_meta_one_meta_one_nest_get')\n",
    "d.model_dump()"
   ]
  },
  {
   "cell_type": "code",
   "execution_count": null,
   "id": "3f35b01e",
   "metadata": {},
   "outputs": [],
   "source": [
    "F = Function.from_openapi_endpoint(d)\n",
    "F(body_code='KT-2011')"
   ]
  },
  {
   "cell_type": "code",
   "execution_count": null,
   "id": "b34bbc6a",
   "metadata": {},
   "outputs": [],
   "source": [
    "\"\"\"this is resolved from the default domain where the api is served\"\"\"\n",
    "\n",
    "e = Cache.resolve_endpoint('get:/meta-one/bodies/points_of_measure')\n",
    "e"
   ]
  },
  {
   "cell_type": "code",
   "execution_count": null,
   "id": "6bb3577e",
   "metadata": {},
   "outputs": [],
   "source": [
    "x = d(body_code='KT-2011')\n",
    "#x = d(sku='NA-1001 LSC19 TENCVT 3ZZMD')\n",
    "x"
   ]
  },
  {
   "cell_type": "code",
   "execution_count": null,
   "id": "0c2a8df3",
   "metadata": {},
   "outputs": [],
   "source": [
    "from funkyprompt.core.types.markdown import MarkdownAgent\n",
    "\n",
    "from IPython.display import Markdown\n",
    "\n",
    "r = MarkdownAgent.build(\n",
    "    'This agent is designed to interact with the Meta ONE API to perform tasks related to body measurements and related data. It can check the status of Bertha on bodies, retrieve body points of measure, style costs, and body-related margins. The agent maintains a focus on a specific body, keeping track of its name, description, measurements in inches, body code, and version. When commenting on the measurements field, add that they are referred to as points of measurements',\n",
    "    'https://data.resmagic.io/meta-one/openapi.json')\n",
    "\n",
    "Markdown(r)"
   ]
  },
  {
   "cell_type": "markdown",
   "id": "9447f661",
   "metadata": {},
   "source": [
    "# Next\n",
    "- we can test parse but all we need to do is allow the agent to \"activate\" the fuctions it needs\n",
    "- there are different animals - some objects are \"just\" types but they have related entity functions\n",
    "- some objects are goals i.e. we are creating into types\n",
    "- some objects are just function wrappers"
   ]
  },
  {
   "cell_type": "code",
   "execution_count": null,
   "id": "418879aa",
   "metadata": {},
   "outputs": [],
   "source": [
    "from funkyprompt.core.agents import Runner\n",
    "from funkyprompt.core import AbstractModel\n",
    "from IPython.display import Markdown\n",
    "\n",
    "markdown = r# \"# Body Measurement Agent\\nThis agent is designed to interact with the Meta ONE API to perform tasks related to body measurements and related data. It can check the status of Bertha on bodies, retrieve body points of measure, style costs, and body-related margins. The agent maintains a focus on a specific body, keeping track of its name, description, measurements in inches, body code, and version.\\n\\n## Structured Response Types\\n### Body Entity\\n| Field Name | Type   | Description                                      |\\n|------------|--------|--------------------------------------------------|\\n| name       | string | The name of the body entity                      |\\n| description| string | A detailed description of the body entity        |\\n| measurements| array | A list of measurements in inches                 |\\n| body_code  | string | The unique code identifying the body             |\\n| version    | integer| The version number of the body                   |\\n\\n## Available Functions\\n- [get:meta-one/bodies/points_of_measure](https://data.resmagic.io/meta-one/docs#/Meta%20ONE/get_body_points_of_measure_meta_one_bodies_points_of_measure_get) : Retrieve the points of measure for a body.\\n- [get:meta-one/styles/costs](https://data.resmagic.io/meta-one/docs#/Meta%20ONE/get_meta_one_costs_table_using_multi_meta_one_meta_one_costs_table_get) : Fetch costs table for a style using a SKU.\\n- [get:meta-one/bodies/margins](https://data.resmagic.io/meta-one/docs#/Meta%20ONE/get_body_margins_meta_one_bodies_margins_get) : Get the margins for the body.\\n- [get:meta-one/body_material/margins](https://data.resmagic.io/meta-one/docs#/Meta%20ONE/get_body_material_margins_meta_one_body_material_margins_get) : Get the margins for the body material combo.\\n- [get:meta-one/bertha/status](https://data.resmagic.io/meta-one/docs#/Bertha/status_meta_one_bertha_status_get) : Check Bertha's job status chart.\\n- [get:meta-one/bodies/get_body_by_code](https://data.resmagic.io/meta-one/docs#/Meta%20ONE/get_body_by_code_meta_one_bodies_get_body_by_code_get) : Retrieve a body by its code.\\n- [get:meta-one/bodies/status](https://data.resmagic.io/meta-one/docs#/Meta%20ONE/get_body_status_meta_one_bodies_status_get) : Check the status of the body in the queue.\"\n",
    "model = AbstractModel.create_model_from_markdown(markdown)\n",
    "agent = Runner(model)\n",
    "\n",
    "agent"
   ]
  },
  {
   "cell_type": "code",
   "execution_count": null,
   "id": "4dabf27e",
   "metadata": {},
   "outputs": [],
   "source": [
    "Markdown(agent('Please lookup the status and measurements in the larges size for body KT-2011 and use the structured response format to response'))"
   ]
  },
  {
   "cell_type": "code",
   "execution_count": null,
   "id": "4093c076",
   "metadata": {},
   "outputs": [],
   "source": [
    "Markdown(agent('Please load the status and margins of by KT-3038'))"
   ]
  },
  {
   "cell_type": "code",
   "execution_count": null,
   "id": "a7e9adea",
   "metadata": {},
   "outputs": [],
   "source": [
    "Markdown(agent('Please load the body piece names (using the bodies status endpoint) for KT-2011 and also get its measurements (points of measure) for the large size and then respond in the structure respond for Body Entity'))"
   ]
  },
  {
   "cell_type": "code",
   "execution_count": null,
   "id": "f1fae056",
   "metadata": {},
   "outputs": [],
   "source": [
    "Markdown(model.get_model_as_prompt())\n"
   ]
  },
  {
   "cell_type": "code",
   "execution_count": null,
   "id": "387f3863",
   "metadata": {},
   "outputs": [],
   "source": [
    "# prove we can parse it if we want to but we should not reall have to\n",
    "# from funkyprompt.core.types.markdown import MarkdownAgent\n",
    "# sample = \"# Body Measurement Agent\\nThis agent is designed to interact with the Meta ONE API to perform tasks related to body measurements and related data. It can check the status of Bertha on bodies, retrieve body points of measure, style costs, and body-related margins. The agent maintains a focus on a specific body, keeping track of its name, description, measurements in inches, body code, and version.\\n\\n## Structured Response Types\\n### Body Entity\\n| Field Name | Type   | Description                                      |\\n|------------|--------|--------------------------------------------------|\\n| name       | string | The name of the body entity                      |\\n| description| string | A detailed description of the body entity        |\\n| measurements| array | A list of measurements in inches                 |\\n| body_code  | string | The unique code identifying the body             |\\n| version    | integer| The version number of the body                   |\\n\\n## Available Functions\\n- [get:meta-one/bodies/points_of_measure](https://data.resmagic.io/meta-one/docs#/Meta%20ONE/get_body_points_of_measure_meta_one_bodies_points_of_measure_get) : Retrieve the points of measure for a body.\\n- [get:meta-one/styles/costs](https://data.resmagic.io/meta-one/docs#/Meta%20ONE/get_meta_one_costs_table_using_multi_meta_one_meta_one_costs_table_get) : Fetch costs table for a style using a SKU.\\n- [get:meta-one/bodies/margins](https://data.resmagic.io/meta-one/docs#/Meta%20ONE/get_body_margins_meta_one_bodies_margins_get) : Get the margins for the body.\\n- [get:meta-one/body_material/margins](https://data.resmagic.io/meta-one/docs#/Meta%20ONE/get_body_material_margins_meta_one_body_material_margins_get) : Get the margins for the body material combo.\\n- [get:meta-one/bertha/status](https://data.resmagic.io/meta-one/docs#/Bertha/status_meta_one_bertha_status_get) : Check Bertha's job status chart.\\n- [get:meta-one/bodies/get_body_by_code](https://data.resmagic.io/meta-one/docs#/Meta%20ONE/get_body_by_code_meta_one_bodies_get_body_by_code_get) : Retrieve a body by its code.\\n- [get:meta-one/bodies/status](https://data.resmagic.io/meta-one/docs#/Meta%20ONE/get_body_status_meta_one_bodies_status_get) : Check the status of the body in the queue.\"\n",
    "\n",
    "# MarkdownAgent.parse_markdown_to_agent_spec(sample).dict()"
   ]
  },
  {
   "cell_type": "code",
   "execution_count": null,
   "id": "62c42e88",
   "metadata": {},
   "outputs": [],
   "source": [
    "# Create a session to create a thing\n",
    "from funkyprompt.core import AbstractContentModel\n",
    "from funkyprompt.core import AbstractEntity\n",
    "from pydantic import Field\n",
    "import typing\n",
    "from funkyprompt.core.agents import AgentBuilder\n",
    "from funkyprompt.core.agents import Runner\n",
    "from funkyprompt.core import AbstractModel\n",
    "from funkyprompt.core.agents import Runner\n",
    "from funkyprompt.core import AbstractModel\n",
    "from IPython.display import Markdown\n",
    "from funkyprompt.services import entity_store\n",
    "store =entity_store(AgentBuilder)"
   ]
  },
  {
   "cell_type": "code",
   "execution_count": null,
   "id": "be102c9e",
   "metadata": {},
   "outputs": [],
   "source": [
    "#one core (e)\n",
    "#Agent._register()\n",
    "A = store.select_one('design.body_manager')\n",
    "#this works because we support instance prompts but dont encourage it\n",
    "#R = Runner(A)\n"
   ]
  },
  {
   "cell_type": "code",
   "execution_count": null,
   "id": "21a87fc7",
   "metadata": {},
   "outputs": [],
   "source": [
    "\"\"\"create an instance is the right thing to do but we hack support for using the AgentBuilder as it will look for an instance prompt\"\"\"\n",
    "mage = A.instantiate_markdown_agent()\n",
    "\"\"\"and agent save to a database can be loaded and used\"\"\"\n",
    "R = Runner(mage)\n",
    "Markdown(R(\"please get me the margins for body KT-2011\"))"
   ]
  },
  {
   "cell_type": "code",
   "execution_count": null,
   "id": "59b7cde5",
   "metadata": {},
   "outputs": [],
   "source": [
    "from funkyprompt.core.agents import Runner\n",
    "from funkyprompt.core import AbstractModel\n",
    "from IPython.display import Markdown\n",
    "agent = Runner(AgentBuilder)\n",
    "agent"
   ]
  },
  {
   "cell_type": "code",
   "execution_count": null,
   "id": "eb41a6c9",
   "metadata": {},
   "outputs": [],
   "source": [
    "\"\"\"first think you should always do is check the markdown prompt\"\"\"\n",
    "\n",
    "Markdown(AgentBuilder.get_model_as_prompt())"
   ]
  },
  {
   "cell_type": "code",
   "execution_count": null,
   "id": "e6295c72",
   "metadata": {},
   "outputs": [],
   "source": [
    "#AgentBuilder.run_search(\"can you find a body agent\")"
   ]
  },
  {
   "cell_type": "code",
   "execution_count": null,
   "id": "1b291614",
   "metadata": {},
   "outputs": [],
   "source": [
    "a = agent(\"I need an agent to manage bodies in the design namespace - the agent should be able to get the margin and points of measurement of the body. Use a structured response of the same name as the agent with name and description and measurements field. Please save it for me \")\n",
    "a"
   ]
  },
  {
   "cell_type": "code",
   "execution_count": null,
   "id": "72902f96",
   "metadata": {},
   "outputs": [],
   "source": [
    "from funkyprompt.core.utils.parsing import parse_fenced_code_blocks\n",
    "\n",
    "#j = parse_fenced_code_blocks(a)\n",
    "#Markdown(a)\n",
    "# aa= Agent(**j)\n",
    "\n",
    "\n",
    "# store.update_records(aa)"
   ]
  },
  {
   "cell_type": "code",
   "execution_count": null,
   "id": "74d74f5f",
   "metadata": {},
   "outputs": [],
   "source": [
    "A = store.select_one('design.body_manager')\n",
    "#this works because we support instance prompts but dont encourage it\n",
    "#R = Runner(A)\n",
    "mage = A.instantiate_markdown_agent()\n",
    "mage"
   ]
  },
  {
   "cell_type": "code",
   "execution_count": null,
   "id": "36fb2771",
   "metadata": {},
   "outputs": [],
   "source": [
    " "
   ]
  },
  {
   "cell_type": "code",
   "execution_count": null,
   "id": "973eec30",
   "metadata": {},
   "outputs": [],
   "source": [
    "R = Runner(A)\n",
    "Markdown(R(\"please get me the margins for body KT-2011\"))"
   ]
  },
  {
   "cell_type": "markdown",
   "id": "6e3fb7a6",
   "metadata": {},
   "source": [
    "## if we can create an agent which is also and entity, it should be that loading the instance gets crud. lets think about that...\n"
   ]
  },
  {
   "cell_type": "code",
   "execution_count": null,
   "id": "18109814",
   "metadata": {},
   "outputs": [],
   "source": [
    "bodies.get_embedding_fields()"
   ]
  },
  {
   "cell_type": "code",
   "execution_count": null,
   "id": "11704782",
   "metadata": {},
   "outputs": [],
   "source": [
    "class bodies(AbstractContentModel):\n",
    "    class Config:\n",
    "        name:str ='body_manager'\n",
    "        namespace: str = 'design'\n",
    "        description: mage.get_model_description()\n",
    "            \n",
    "    measurements: dict\n",
    "    comments: str\n",
    "    version: int\n",
    "\n",
    "b=entity_store(bodies).update_records(        bodies(name='test2', content='the elephants madness', measurements={}, version=1, comments='test'))"
   ]
  },
  {
   "cell_type": "code",
   "execution_count": null,
   "id": "121f3912",
   "metadata": {},
   "outputs": [],
   "source": [
    "#b=bodies(name='test', content='test', measurements={}, version=1, comments='test')\n",
    "type(mage)"
   ]
  },
  {
   "cell_type": "code",
   "execution_count": null,
   "id": "15297563",
   "metadata": {},
   "outputs": [],
   "source": [
    "\"\"\"if we were to just run this, the entity model would not exist\n",
    "so we need to ingest some data - note also that the content should be embedded\n",
    "- the markdown instance would need a register but lets assume something else has already created it ??\n",
    "- we need to fully rehydrate the model including knowing it has embedding fields etc.\n",
    "\"\"\"\n",
    "mage.run_search(\"What can you tell me about cycle games actually?\")\n",
    "#mage.run_search(\"please retrieve the `test` entity\")\n"
   ]
  },
  {
   "cell_type": "code",
   "execution_count": null,
   "id": "3e812b7c",
   "metadata": {},
   "outputs": [],
   "source": [
    "mage.run_search(\"please retrieve the `test` entity\")"
   ]
  },
  {
   "cell_type": "code",
   "execution_count": null,
   "id": "14e3baae",
   "metadata": {},
   "outputs": [],
   "source": [
    "entity_store(bodies).select_one('test')"
   ]
  },
  {
   "cell_type": "code",
   "execution_count": null,
   "id": "77def6a5",
   "metadata": {},
   "outputs": [],
   "source": [
    "# semantic model for ingestion - from this we can save markdown agents while also registering data and inspecting schema \n",
    "# we can have an abstract model .export() to this format \n",
    "\n",
    "# models:\n",
    "#     - name: bla bla\n",
    "#     - description: bla bla bla\n",
    "#     - types\n",
    "#         name: primary\n",
    "#         fields:\n",
    "#             - name: \n",
    "#               description: \n",
    "#               type: \n",
    "#               relations:\n",
    "#                 - \n",
    "#     - ingestion:\n",
    "#         src: parquet path\n",
    "#     - relations:\n",
    "        "
   ]
  },
  {
   "cell_type": "markdown",
   "id": "80e92f0a",
   "metadata": {},
   "source": [
    "# Service discovery and AIDA"
   ]
  },
  {
   "cell_type": "code",
   "execution_count": null,
   "id": "4a56fc4e",
   "metadata": {},
   "outputs": [],
   "source": []
  },
  {
   "cell_type": "markdown",
   "id": "0b113afd",
   "metadata": {},
   "source": [
    "# Observations\n",
    "- if another agent wrapped the call to product an output e.g. the functions, it would shroud the large json text from the output - we could also shoud internally for debuggin purposes\n",
    "- id like some way to fail totally on not repeast mistakes e.g. DB errors\n",
    "- "
   ]
  },
  {
   "cell_type": "code",
   "execution_count": null,
   "id": "12e7507e",
   "metadata": {},
   "outputs": [],
   "source": []
  }
 ],
 "metadata": {
  "kernelspec": {
   "display_name": "Python 3 (ipykernel)",
   "language": "python",
   "name": "python3"
  },
  "language_info": {
   "codemirror_mode": {
    "name": "ipython",
    "version": 3
   },
   "file_extension": ".py",
   "mimetype": "text/x-python",
   "name": "python",
   "nbconvert_exporter": "python",
   "pygments_lexer": "ipython3",
   "version": "3.10.10"
  }
 },
 "nbformat": 4,
 "nbformat_minor": 5
}

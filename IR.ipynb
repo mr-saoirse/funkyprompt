{
 "cells": [
  {
   "cell_type": "code",
   "execution_count": null,
   "id": "5741f3a9",
   "metadata": {},
   "outputs": [],
   "source": [
    "import funkyprompt\n",
    "from IPython.display import Markdown\n",
    "from funkyprompt.core import AbstractEntity,AbstractModel, ConversationModel, AbstractContentModel\n",
    "from funkyprompt.entities import Project, PersonPreferences, Task, TaskIdeaSummary, Diary, Summary\n",
    "from funkyprompt.services.data.postgres import PostgresService\n",
    "from funkyprompt.core.agents import Runner, Plan\n",
    "from funkyprompt.core.agents import QueryClassifier\n",
    "import json\n",
    "# SELECT * \n",
    "# FROM cypher('funkybrain', $$\n",
    "# MATCH (n)-[r]->(m)\n",
    "# RETURN n, r, m\n",
    "# $$) as (n agtype , r agtype , m agtype  );\n",
    "\n",
    "service = PostgresService(Diary)\n",
    "r = Runner(Diary)"
   ]
  },
  {
   "cell_type": "code",
   "execution_count": null,
   "id": "719f194b",
   "metadata": {},
   "outputs": [],
   "source": [
    "Markdown(r(\"Is there any mention of stigmergy and technology\"))"
   ]
  },
  {
   "cell_type": "code",
   "execution_count": null,
   "id": "a9f171d4",
   "metadata": {},
   "outputs": [],
   "source": [
    "Markdown(r(\"Please do a deep analysis on the expected changes in how people consume information and given that there is an overload of information online in the attention economy. \"))"
   ]
  },
  {
   "cell_type": "code",
   "execution_count": null,
   "id": "f46b5970",
   "metadata": {},
   "outputs": [],
   "source": [
    "#Example of entity stricness. we can find this by .md. - question of cleaning entity names but also loading aliases - or making sure entity keys are including for vector search i.e. Heading\n",
    "\n",
    "#Diary.run_search('entity THE BIG TODO.md')"
   ]
  },
  {
   "cell_type": "code",
   "execution_count": null,
   "id": "1c683a89",
   "metadata": {},
   "outputs": [],
   "source": [
    "Markdown(r(\"Please do a deep analysis on the expected changes in how people consume information given that there is an overload of information online. You should dig deeper into each resource that you find for a few iterations and provide a list of references including any web links in the sources and what sources you used\"))"
   ]
  },
  {
   "cell_type": "code",
   "execution_count": null,
   "id": "905d4897",
   "metadata": {},
   "outputs": [],
   "source": [
    "#Diary.run_search('What can you tell me about funkybrain based on the diary entries')"
   ]
  },
  {
   "cell_type": "code",
   "execution_count": null,
   "id": "d28362e8",
   "metadata": {},
   "outputs": [],
   "source": [
    "\"\"\"TODO\n",
    "test pasing result objects into something useful from AGE\n",
    "\n",
    "[{'n': '{\"id\": 281474976710962, \"label\": \"\", \"properties\": {\"name\": \"Personal Development\"}}::vertex'}, {'n': '{\"id\": 4503599627370746, \"label\": \"public_diary\", \"properties\": {\"name\": \"August 15th, 2024.md\"}}::vertex'}, {'n': '{\"id\": 4503599627370748, \"label\": \"public_diary\", \"properties\": {\"name\": \"THE BIG TODO.md\"}}::vertex'}, {'n': '{\"id\": 4503599627370753, \"label\": \"public_diary\", \"properties\": {\"name\": \"June 28th, 2024.md\"}}::vertex'}, {'n': '{\"id\": 4503599627370761, \"label\": \"public_diary\", \"properties\": {\"name\": \"Context Crawling.md\"}}::vertex'}]\n",
    "\n",
    "\n",
    "\"\"\""
   ]
  },
  {
   "cell_type": "code",
   "execution_count": null,
   "id": "8e676eb3",
   "metadata": {},
   "outputs": [],
   "source": [
    "Markdown(r(\"What can you tell me about Value of Information  on the diary entries. explore_similar_by_tag by passing the tags in the documents for a deeper analysis. Please add the document names that you referenced\"))"
   ]
  },
  {
   "cell_type": "code",
   "execution_count": null,
   "id": "360367d8",
   "metadata": {},
   "outputs": [],
   "source": [
    "Markdown(r(\"Is there any mentioned of context crawling in my diary? tell me what functions you used to find out\"))"
   ]
  },
  {
   "cell_type": "code",
   "execution_count": null,
   "id": "abdf550a",
   "metadata": {},
   "outputs": [],
   "source": [
    "a=Diary.run_search(\"what do you know about funkybrain\")\n",
    "a = r(f\"Please provide a detailed overview of funkybrain - ```json {json.dumps(a)}```\")\n",
    "Markdown(a)"
   ]
  },
  {
   "cell_type": "code",
   "execution_count": null,
   "id": "27342e7d",
   "metadata": {},
   "outputs": [],
   "source": [
    "Markdown(Summary._ask(\"What do you know about funkybrain and how we can use it to provide more utility of information in terms of user intent. Please explain the difference between intention and attetion in thinking of info utility and explain how the internet is making intention of users imporant to measure info utility\", review_messages=False))"
   ]
  },
  {
   "cell_type": "code",
   "execution_count": null,
   "id": "10b34e30",
   "metadata": {},
   "outputs": [],
   "source": [
    "def search_by_path(cls, path:str):\n",
    "    \"\"\"Give a path A/B we can search for documents that are also linked along this path\"\"\"\n",
    "    \n",
    "    "
   ]
  },
  {
   "cell_type": "code",
   "execution_count": null,
   "id": "c5930185",
   "metadata": {},
   "outputs": [],
   "source": [
    "\"\"\"1 We do a vector search for a topic and then retrieve the related paths too\n",
    "-- we can go deep or fetch on demand the linked nodes ranked by something\n",
    "-- we can then summarize the store (with some network intelligence)\n",
    "\"\"\"\n"
   ]
  },
  {
   "cell_type": "code",
   "execution_count": null,
   "id": "25f53cec",
   "metadata": {},
   "outputs": [],
   "source": [
    "a=Diary.run_search(\"Future of information consumption and what deep water asset management has to say about it\")\n",
    "a"
   ]
  },
  {
   "cell_type": "code",
   "execution_count": null,
   "id": "06af1940",
   "metadata": {},
   "outputs": [],
   "source": []
  },
  {
   "cell_type": "code",
   "execution_count": null,
   "id": "16b9e5fe",
   "metadata": {},
   "outputs": [],
   "source": [
    "\"\"\"2 We can start instead with high degree nodes and use them as categories\n",
    "-- we can show the related documents linked by certain target path tags\n",
    "-- this can be used for the netflix style categories \n",
    "\"\"\"\n"
   ]
  },
  {
   "cell_type": "code",
   "execution_count": null,
   "id": "147ea2da",
   "metadata": {},
   "outputs": [],
   "source": []
  },
  {
   "cell_type": "code",
   "execution_count": null,
   "id": "74d69744",
   "metadata": {},
   "outputs": [],
   "source": [
    "\"\"\"3 traverse embedded links and references \n",
    "-- we can enhance the content by adding summaries based on what is found in the text\n",
    "  -- we traverse the url and summarize what is there or what a book is about and then we add a linked summary to the original document (this requires keeping a reference to the original document)\n",
    "\"\"\""
   ]
  },
  {
   "cell_type": "code",
   "execution_count": null,
   "id": "f23d2d71",
   "metadata": {},
   "outputs": [],
   "source": []
  }
 ],
 "metadata": {
  "kernelspec": {
   "display_name": "Python 3 (ipykernel)",
   "language": "python",
   "name": "python3"
  },
  "language_info": {
   "codemirror_mode": {
    "name": "ipython",
    "version": 3
   },
   "file_extension": ".py",
   "mimetype": "text/x-python",
   "name": "python",
   "nbconvert_exporter": "python",
   "pygments_lexer": "ipython3",
   "version": "3.10.10"
  }
 },
 "nbformat": 4,
 "nbformat_minor": 5
}

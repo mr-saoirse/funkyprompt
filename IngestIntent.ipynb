{
 "cells": [
  {
   "cell_type": "code",
   "execution_count": null,
   "id": "3d75ca09",
   "metadata": {},
   "outputs": [],
   "source": [
    "import funkyprompt\n",
    "from IPython.display import Markdown\n",
    "from funkyprompt.core import AbstractEntity,AbstractModel, ConversationModel, AbstractContentModel\n",
    "from funkyprompt.entities import Project, PersonPreferences, Task, TaskIdeaSummary, Diary\n",
    "from funkyprompt.services.data.postgres import PostgresService\n",
    "from funkyprompt.core.agents import Runner, Plan\n",
    "from funkyprompt.core.agents import QueryClassifier\n",
    "\n",
    "  \n",
    "#Summary._register()\n",
    "\n",
    "service = PostgresService(Diary)\n",
    "r = Runner(Diary)"
   ]
  },
  {
   "cell_type": "code",
   "execution_count": null,
   "id": "1106bb1f",
   "metadata": {},
   "outputs": [],
   "source": [
    "service._drop_graph()"
   ]
  },
  {
   "cell_type": "code",
   "execution_count": null,
   "id": "87148dc8",
   "metadata": {},
   "outputs": [],
   "source": [
    "Markdown(Diary.Config.description)"
   ]
  },
  {
   "cell_type": "code",
   "execution_count": null,
   "id": "92602232",
   "metadata": {},
   "outputs": [],
   "source": [
    "A = Diary.visit_site_and_summarize('https://deepwatermgmt.com/philosophy/defining-the-future-of-human-information-consumption/', \n",
    "                               context='importance of understanding the utility of inforamtion to consumers over time base on their intention and why attention is the most important thing to focus on')\n",
    "Markdown(A)\n"
   ]
  },
  {
   "cell_type": "code",
   "execution_count": null,
   "id": "ac55d94e",
   "metadata": {},
   "outputs": [],
   "source": [
    "PostgresService(Summary).update_records(Summary(name='DeepWatInfoUtility', content=A))"
   ]
  },
  {
   "cell_type": "code",
   "execution_count": null,
   "id": "aabb9f2b",
   "metadata": {},
   "outputs": [],
   "source": [
    "from funkyprompt.core.utils.parsing.web import scrape_text\n",
    "\n",
    "text= scrape_text('https://deepwatermgmt.com/philosophy/defining-the-future-of-human-information-consumption/')"
   ]
  },
  {
   "cell_type": "code",
   "execution_count": null,
   "id": "695389de",
   "metadata": {},
   "outputs": [],
   "source": [
    "a = Markdown(r(f\"Please provide an exhuastive summary of the arguments in this text related to the importance of understanding the utility of inforamtion to consumers over time base on their intention and why attention is the most important thing to focus on. suggest some altneative reading e.g. books and blogs on these themes - ```text {text}```\"))\n",
    "a"
   ]
  },
  {
   "cell_type": "code",
   "execution_count": null,
   "id": "b24426f9",
   "metadata": {},
   "outputs": [],
   "source": [
    "Diary.run_search(\"Future of information cnosumption\")"
   ]
  },
  {
   "cell_type": "code",
   "execution_count": null,
   "id": "3c9dff5c",
   "metadata": {},
   "outputs": [],
   "source": [
    "Diary.run_search(\"Furure of information consumption\")"
   ]
  },
  {
   "cell_type": "code",
   "execution_count": null,
   "id": "9c79440a",
   "metadata": {},
   "outputs": [],
   "source": [
    "import json\n",
    "from IPython.display import Markdown\n",
    "a=Diary.run_search(\"Furure of information consumption\")\n",
    "Markdown(r(f\"Please summarize and argument for personal development and intention over attention. How do we understand the utility of information as it pertains to a persons goals - ```json {json.dumps(a)}```\"))"
   ]
  },
  {
   "cell_type": "code",
   "execution_count": null,
   "id": "6fd00153",
   "metadata": {},
   "outputs": [],
   "source": [
    "\"\"\"\n",
    "we are going to insert our markdown elements using the graph bomb technique\n",
    "this requires prefilling with overall objectives and projects and then linking things of relevance to tags\n",
    "\n",
    "{Project name, short description, entity_tags}\n",
    "\n",
    "\"\"\""
   ]
  },
  {
   "cell_type": "code",
   "execution_count": null,
   "id": "4531a429",
   "metadata": {},
   "outputs": [],
   "source": []
  },
  {
   "cell_type": "code",
   "execution_count": null,
   "id": "2163360a",
   "metadata": {},
   "outputs": [],
   "source": [
    "path = f\"/Users/sirsh/Downloads/Roam-Export-1726328045747/*.*\"\n",
    "import glob\n",
    "def read_it(f):\n",
    "    with open(f) as f:\n",
    "        return f.read()\n",
    "    \n",
    "files = list(glob.glob(path))\n",
    "\n",
    "from funkyprompt.core.types.markdown import extract_local_ref_links\n",
    "from tqdm import tqdm\n",
    "\n",
    "ss=PostgresService(Diary)\n",
    "\n",
    "for file in tqdm(files[:30]):\n",
    "    data = read_it(file)\n",
    "    file = file.split('/')[-1]\n",
    "\n",
    "    aws = r(f\"\"\" {Diary.Config.description}\n",
    "    ```text\n",
    "    {data}\n",
    "    ```\n",
    "    \"\"\")\n",
    "    \n",
    "    a = Diary(name=file, content=aws, graph_paths=extract_local_ref_links(aws))\n",
    "\n",
    "    ss.update_records(a)\n"
   ]
  },
  {
   "cell_type": "code",
   "execution_count": null,
   "id": "48435c68",
   "metadata": {},
   "outputs": [],
   "source": [
    "data = \"\"\"- https://deepwatermgmt.com/philosophy/defining-the-future-of-human-information-consumption/ - very nice article on meaning over information and measing meaning - made me think that this is the new form of recommendation system and its time sensitive i.e. meaning of an item changes over time as a thing is consumed \n",
    "- https://en.m.wikipedia.org/wiki/Command_pattern\n",
    "- https://www.theatlantic.com/technology/archive/2024/07/searchgpt-openai-error/679248/\n",
    "- https://meredith.wolfwater.com/wordpress/2024/06/12/slow-productivity-is-a-team-sport-a-critique-of-cal-newports-slow-productivity/\n",
    "- vcs want to fund Aspirins\n",
    "- I want to look at two side but don't mix... agent interfaces for traditional software ... low reasoning... lots of DB and graph Stuff\n",
    "- separate look at algorithms and true cognitive stuff... something that works with heirarxhy and the great algorithms must be the thing and cheating is needed\n",
    "- if people got sick of buying tech what would they buy\n",
    "- \n",
    "- when we write code for compilers, the language tells us if something is legal which is like checking for ambiguity. prompting is not needed except to reduce ambiguity. the ambiguity may be tonal or factual. this is hard to do because space of possibilities over data etc would be hard to estimate. if we could measure distributions in this high dimensional space it would be useful \n",
    "- the language model might not be smart enough but if we wrote unambiguously then the onus is on the agent \n",
    "- are we evolutionary wired to seek information under scarcity \n",
    "- Those choppy stories we can read now... Our reality has too many stories... On e a village inhabitants would read a tale of a wild adventure could talk the month to read and from the time there back again the reader would never hear the like. This was enough adventure. Now there are so many adventures happening all the time\n",
    "\"\"\"\n",
    "\n",
    "aws = r(f\"\"\" {Diary.Config.description}\n",
    "\n",
    "```text\n",
    "{data}\n",
    "```\n",
    "\"\"\")\n",
    "\n",
    "a = Diary(name=file, content=aws, graph_paths=extract_local_ref_links(aws))\n",
    "\n",
    "ss.update_records(a)\n",
    "\n",
    "Markdown(aws)"
   ]
  },
  {
   "cell_type": "code",
   "execution_count": null,
   "id": "43dd4bc9",
   "metadata": {},
   "outputs": [],
   "source": []
  },
  {
   "cell_type": "code",
   "execution_count": null,
   "id": "ba5260c2",
   "metadata": {},
   "outputs": [],
   "source": [
    "d"
   ]
  },
  {
   "cell_type": "code",
   "execution_count": null,
   "id": "20e5a573",
   "metadata": {},
   "outputs": [],
   "source": [
    "summary = \"These are my interests and projects and business ideas. \"\n",
    "from tqdm import tqdm\n",
    "for f in tqdm(files[:30]):\n",
    "    d = read_it(f)\n",
    "    summary = r(f\"\"\"please \"fold\" in a summarized form of these data into the existing Markdown summary. I would like a very rich summary with keywords and topic categories as well as ocassional interesting links. \n",
    "    Maintain markdown categories such as overviews, themes, key word tags, interesting links and people.\n",
    "    Folding means combine two summaries to make a single reduced summary. Do not repeat.\n",
    "    These are the new data - ```text {d}```` and this is the existing summary - ```text {summary}```\"\"\")\n",
    "\n",
    "Markdown(summary)"
   ]
  },
  {
   "cell_type": "code",
   "execution_count": null,
   "id": "ed8bbaee",
   "metadata": {},
   "outputs": [],
   "source": [
    "# Task Idea Summary is a processing of an ingested diary item\n",
    "\n",
    "# Diary.ingest_files(uri) - > what can we get out of simple vector search\n",
    "\n",
    "#// you get summaries, projects, themes from these things - how do we organize |||| folded summaries \n",
    "# Diary.process_summaries() -> test indexing after the fact where we run a pref extraction over the entities and create nodes different things that we can query and viz\n",
    "\n",
    "# Diary.process_kg() -> test indexing after the fact where we run a pref extraction over the entities and create nodes different things that we can query and viz\n"
   ]
  },
  {
   "cell_type": "code",
   "execution_count": null,
   "id": "1f4cb776",
   "metadata": {},
   "outputs": [],
   "source": [
    "T = \"\"\"- https://www.timeout.com/newyork/news/this-nyc-pizzeria-was-yet-again-named-the-very-best-in-the-world-091224\n",
    "- https://jina.ai/news/reader-lm-small-language-models-for-cleaning-and-converting-html-to-markdown/\n",
    "- https://www.glean.com/connectors/gmail Google for work\n",
    "- \n",
    "- https://towardsdatascience.com/how-to-implement-graph-rag-using-knowledge-graphs-and-vector-databases-60bb69a22759\n",
    "- https://d12zdz04.na1.hubspotlinks.com/Ctc/5E+113/d12ZDZ04/VVZ_yS6qqX71W1ZV6rz2_t__SW6R-97G5kNJV6N4gTlJM3m2ndW69sMD-6lZ3lRN3B-7Fqp5m3RW7c1cV87Shd3hW7k91vx2dCCx_W5HHxmj12-t-TW6hclzY46r4L7VBsXqd1kF_skW2D1KSq3sFvHdW5S_3RF1kG9RmW8SW7wW6X8-Z5W96Z3757ymjjhW8jMyLK67ksKYMN5Mh_k-jgQW4FQX4J6JqxYRN4TJBBlXLHPKW4CgF8M38tM6sW8KtsVx6KHffzW4R5GY62lQHqsW3M-fxk52W2CqW26NLhJ93v9ycW5W6C8L7zWxGRf8swQmP04\n",
    "- \"What causes the zeigarnik effect\n",
    "- The Zeigarnik Effect is the power of unfinished business or interrupted or uncompleted activity to hold a privileged place in memory. Unfinished tasks create a cognitive burden, weigh more heavily on the mind, and are more easily recalled than completed tasks.\"\n",
    "- https://www.amazon.com/Over-Work-Transforming-Daily-Better/dp/1250801729\n",
    "- https://arxiv.org/abs/2408.09955\n",
    "- emergent intent or human intent or modelling intent or understanding intent\n",
    "- \n",
    "\"\"\"\n",
    "\n",
    "\n",
    "aws = r(f\"\"\"What are my interestests based on the following links. Please categorize this links based on my major interests and goals. You can use a tow to three tier categorization schema\n",
    "```text\n",
    "{T}\n",
    "```\n",
    "\"\"\")\n",
    "Markdown(aws)"
   ]
  },
  {
   "cell_type": "code",
   "execution_count": null,
   "id": "3ccbe90c",
   "metadata": {},
   "outputs": [],
   "source": [
    "\n",
    "aws = r(f\"\"\"What are my interestests based on the following links. Please categorize this links based on my major interests and goals. You can use a tow to three tier categorization scheme.\n",
    "You can use major life categorize like (a) life, experience, health (b) research interests (c) business interests (d) life ops e.g. time, productivity or project magement  (e) specific topics in science, art etc. Create a three tier categoy for each topic A/B/C\n",
    "```text\n",
    "{T}\n",
    "```\n",
    "\"\"\")\n",
    "Markdown(aws)"
   ]
  },
  {
   "cell_type": "code",
   "execution_count": null,
   "id": "8cc87f96",
   "metadata": {},
   "outputs": [],
   "source": [
    "T = \"\"\"- [[August 12th, 2024]] at 17:37\n",
    "    - https://www.highrisenetworks.com/about/\n",
    "    - https://venturebeat.com/ai/ragie-debuts-enterprise-rag-as-a-service-raises-5-5m-seed/\n",
    "    - https://venturebeat.com/ai/ragie-debuts-enterprise-rag-as-a-service-raises-5-5m-seed/\n",
    "    - use feeling words, thrilling, fun, adventure, YES, collect these words. don't just say I'm ready excited booooo, flutters, daunting is ok, out of comfort zone, \n",
    "    - thrilling, important, daunting \n",
    "    - nugget ideas\n",
    "        - kitchen project, sustained quality and pace (prep) excellence, artistry\n",
    "    - I need at least score 18/21 for three factors out of 7... or iterate on the articulation of goal... 6 axis specifics\n",
    "        - commitment, reach, time, scope, standard, outcome\n",
    "        - be in the top 3% (note ai) after 18 months us and Europe... generating user excitement\n",
    "    - verbs... *transform* \n",
    "    - do things... for the sake of .. changing people s relationship with technology offline and online while helping them reach their full potential \n",
    "    - mastermind groups... or similar \n",
    "    - I need art in my life, music, classics, that is where heart and love comes from\n",
    "- READING (Observation - the \"WEB\" is the noise - link to link t rabbot hole. when to stop scrolling and lining exactly -FOMO )\n",
    "    - https://adrien.barbaresi.eu/blog/ e.g. https://adrien.barbaresi.eu/blog/googleology-anatomy-corpus-infrastructure.html\n",
    "    -  einops [practice](https://einops.rocks/) - conv layer from scratch?? or other deep learning modules in einops [[tiny projects]]\n",
    "    - Pydanic support for TypedDict \n",
    "        - explosion AI uses pydantic alot \n",
    "- [[Funkybrain Values]]\n",
    "- [[[Funkybrain Business Model(s)]]]\n",
    "- [[August 13th, 2024]] at 06:38\n",
    "-https://web.mit.edu/allanmc/www/benjamin.pdf soft copy\n",
    "    - ![](https://firebasestorage.googleapis.com/v0/b/firescript-577a2.appspot.com/o/imgs%2Fapp%2FTheSirshGraph%2FQtZyADEVeW.jpg?alt=media&token=585a3fb6-8be9-4dd0-b6ec-34ab24891422)\n",
    "    - ![](https://firebasestorage.googleapis.com/v0/b/firescript-577a2.appspot.com/o/imgs%2Fapp%2FTheSirshGraph%2FlluuMlC2OA.png?alt=media&token=33ea53f0-f756-4c56-a8ff-2a45c8f918fd)\n",
    "    - This idea is inspired by Matt Mochary’s Top Goal approach, and picking one “highlight” for your day from the book Make Time.\n",
    "    - This tactic comes from both Nir Eyal in his book Indistractable and from Jake Knapp and John Zeratsky’s book Make Time. It also\n",
    "    - Second sketching (Second guessing... ) I often settle on my first guess \n",
    "    - notice your mosquitos... most of mine are social related. start the path and spend an hour a week on network building e.g. my database of possible connections and resources and partnerships. other mosquito is evaluating \"the other ways\" of doing things, competitors ... with an appetite for stopping what I'm doing if it's wrong \n",
    "    - \n",
    "    - when something goes we no you say \"how fascinating\"\n",
    "    - wrote down my pros or outcomes of taking on or not taking my worthy goal\n",
    "    - we see the stogmergy effect in production advice... Keep work async\n",
    "One of the biggest unlocks in my productivity has been learning how to pivot a meeting request into an email conversation. The majority of the time this becomes a five-minute task versus a 30- to 60-minute meeting.\n",
    "\n",
    "\"\"\"\n",
    "\n",
    "aws = r(f\"\"\"What are my interestests based on the following links. Please categorize this links based on my major interests and goals. You can use a tow to three tier categorization scheme.\n",
    "You can use major life categorize like (a) health (e.g. food, diet, fitness) (b) research interests (c) business interests (d) Life Ops (e.g. time, productivity, personal development)  (e) Specific Topics (e.g. in science, art etc). (f) Travel (anything realted to travel or vacation) (g) entertainment. Create a three tier categoy for each topic A/B/C but dont label with the eg's\n",
    "Please preserve links. It is a good idea to put things that could go in multiple categories in multiple categories rather that choose.  Please correct any spellings. Use a Json format.\n",
    "```text\n",
    "{T}\n",
    "```\n",
    "\"\"\")\n",
    "Markdown(aws)"
   ]
  },
  {
   "cell_type": "markdown",
   "id": "f216652b",
   "metadata": {},
   "source": [
    "## Todo\n",
    "\n",
    "Work on this, it should extract and tag markdown which we save in a graph format\n",
    "It should take into account the users interets\n",
    "Ideally it would categorize each of the links because they are sometimes project links and not resource links"
   ]
  },
  {
   "cell_type": "code",
   "execution_count": null,
   "id": "ddc2210a",
   "metadata": {},
   "outputs": [],
   "source": [
    "\n",
    "aws = r(f\"\"\" Your job is to summarize the text based on the users interests using Markdown but do not fench the markdown. You can do this by reproducing the main contain uncluding web links. You can use a special markdown format or MTags to categorize the text. \n",
    "These MTags are of the link format [A/B](A/B) where A is one of the users prefererces and B is a sub category of your choice. Path Type can link to a Project, Resource, Area/Topic etc. If in doubt use Tyopic. You can use MTags both to group the summary into sections and to add highlights to part of the text. For example within paragraphs you can add MTags beside the text to show that its importance\n",
    " The users interests are Business, Technology, Personal Development (includes time management and productivity) and you should only use these for instances of A\n",
    " Please maintan a detailed format of the content including related resources.\n",
    "```text\n",
    "{T}\n",
    "```\n",
    "\"\"\")\n",
    "Markdown(aws)"
   ]
  },
  {
   "cell_type": "code",
   "execution_count": null,
   "id": "0f440297",
   "metadata": {},
   "outputs": [],
   "source": [
    "aws"
   ]
  },
  {
   "cell_type": "code",
   "execution_count": null,
   "id": "88145fd1",
   "metadata": {},
   "outputs": [],
   "source": [
    "import re\n",
    "link_pattern = re.compile(r'\\[([^\\]]+)\\]\\((?!http|https|www)([^)]+)\\)')\n",
    "# Find all matches in the text\n",
    "matches = link_pattern.findall(aws)\n",
    "\n",
    "lset = set()\n",
    "# Print the matched links (A and B)\n",
    "for match in matches:\n",
    "    link_text = match[0]  # A: Link text\n",
    "    link_url = match[1]   # B: Link URL\n",
    "    print(f\"Link Text: {link_text}, URL: {link_url}\")\n",
    "    lset |= {link_url}\n",
    "lset"
   ]
  },
  {
   "cell_type": "code",
   "execution_count": null,
   "id": "5296eda3",
   "metadata": {},
   "outputs": [],
   "source": [
    "# class Diary(AbstractContentModel):\n",
    "#     class Config:\n",
    "#         namespace: str = 'public'\n",
    "#         name: str = 'diary'\n",
    "#         description:str = \"daily diary\"\n",
    "\n",
    "# Diary._register()   "
   ]
  },
  {
   "cell_type": "code",
   "execution_count": null,
   "id": "df4d5870",
   "metadata": {},
   "outputs": [],
   "source": [
    "\n"
   ]
  },
  {
   "cell_type": "code",
   "execution_count": null,
   "id": "07c1908e",
   "metadata": {},
   "outputs": [],
   "source": [
    "service._execute_cypher(stmt)"
   ]
  },
  {
   "cell_type": "code",
   "execution_count": null,
   "id": "deabce81",
   "metadata": {},
   "outputs": [],
   "source": [
    "\n",
    "awss = r(f\"\"\"Please summarize all the personal development links in this text\n",
    "```text\n",
    "{aws}\n",
    "```\n",
    "\"\"\")\n",
    "Markdown(awss)"
   ]
  }
 ],
 "metadata": {
  "kernelspec": {
   "display_name": "Python 3 (ipykernel)",
   "language": "python",
   "name": "python3"
  },
  "language_info": {
   "codemirror_mode": {
    "name": "ipython",
    "version": 3
   },
   "file_extension": ".py",
   "mimetype": "text/x-python",
   "name": "python",
   "nbconvert_exporter": "python",
   "pygments_lexer": "ipython3",
   "version": "3.10.10"
  }
 },
 "nbformat": 4,
 "nbformat_minor": 5
}

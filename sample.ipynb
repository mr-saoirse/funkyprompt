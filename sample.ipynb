{
 "cells": [
  {
   "cell_type": "code",
   "execution_count": null,
   "id": "f2ba59e1",
   "metadata": {},
   "outputs": [],
   "source": [
    "import funkyprompt\n",
    "from funkyprompt import agent, describe_function\n",
    "from funkyprompt.io import add_context\n",
    "from funkyprompt.ops.examples import get_context\n",
    "from funkyprompt.ops.entities import AbstractVectorStoreEntry, InstructAbstractVectorStoreEntry, AbstractEntity\n",
    "from funkyprompt.io.stores import VectorDataStore, list_stores, open_store, get_probe\n",
    "from funkyprompt.io.tools.ingestion import ingest_pdf, ingest_arrow, simple_scrape_links, ingest_pdf_using_instruct_embedding, SimpleJsonLDSpider, _ingest_web_page, ingest_page_to_model\n",
    "from funkyprompt import agent\n",
    "from funkyprompt.ops.utils.inspector import list_functions\n",
    "from funkyprompt.io.stores.index import update_function_index, add_cluster_summaries\n",
    "#a = InstructAbstractVectorStoreEntry.create_model(name='BookChapters-instruct')\n",
    "#ingest_pdf('BookChapters-instruct', \"/Users/sirsh/Downloads/Principles - Ray Dalio.pdf\", doc_id='Principles', embedding_provider='instruct')"
   ]
  },
  {
   "cell_type": "code",
   "execution_count": null,
   "id": "6cfe6f5f-32d3-4b89-aa37-35df5179bd08",
   "metadata": {},
   "outputs": [],
   "source": [
    "ingest_pdf('BookChapters-instruct', \"/Users/sirsh/Downloads/How_To_Solve_It_polya_pdf.pdf\", doc_id='PoylaHowToSolveIt', embedding_provider='instruct')"
   ]
  },
  {
   "cell_type": "code",
   "execution_count": null,
   "id": "68007ef2-3d6a-4aab-86e9-7abe0b8a9a02",
   "metadata": {},
   "outputs": [],
   "source": [
    "list_stores()\n",
    "store = open_store(**{'type': 'vector-store',\n",
    "  'namespace': 'default',\n",
    "  'name': 'BookChapters-instruct'})\n",
    "store.plot()"
   ]
  },
  {
   "cell_type": "code",
   "execution_count": null,
   "id": "edd566e1-7858-4b3c-a69a-ab5cc40072d2",
   "metadata": {},
   "outputs": [],
   "source": [
    "store.as_agent()(\"What are some example problems and steps in Poylas book?\")"
   ]
  },
  {
   "cell_type": "code",
   "execution_count": null,
   "id": "14f0d9b5-709c-4e96-9c73-c912415c83ed",
   "metadata": {},
   "outputs": [],
   "source": [
    "url = 'https://en.wikipedia.org/wiki/The_Seven_Basic_Plots'\n",
    "store = ingest_page_to_model(url, model_name='Big Ideas')\n",
    "\n",
    "agent = store.as_agent()\n"
   ]
  },
  {
   "cell_type": "code",
   "execution_count": null,
   "id": "3d9cbd47-76a6-40d3-825d-affa6d53a0e7",
   "metadata": {},
   "outputs": [],
   "source": [
    "data = agent(\"What are the basic plots and of these plots does the Fairy Tale Sinbad most resemble and why? Looking information on Fairy Tales to find out about sinbad\")\n",
    "from pprint import pprint\n",
    "pprint(data)"
   ]
  },
  {
   "cell_type": "code",
   "execution_count": null,
   "id": "b39623f3",
   "metadata": {},
   "outputs": [],
   "source": [
    "## Inspect functions and Plan execution"
   ]
  },
  {
   "cell_type": "code",
   "execution_count": null,
   "id": "56085dd9",
   "metadata": {},
   "outputs": [],
   "source": [
    "## Ask questions"
   ]
  },
  {
   "cell_type": "code",
   "execution_count": null,
   "id": "5d62dd83",
   "metadata": {},
   "outputs": [],
   "source": [
    "## Plot Embeddings"
   ]
  },
  {
   "cell_type": "code",
   "execution_count": null,
   "id": "86524257",
   "metadata": {},
   "outputs": [],
   "source": []
  }
 ],
 "metadata": {
  "kernelspec": {
   "display_name": "Python 3 (ipykernel)",
   "language": "python",
   "name": "python3"
  },
  "language_info": {
   "codemirror_mode": {
    "name": "ipython",
    "version": 3
   },
   "file_extension": ".py",
   "mimetype": "text/x-python",
   "name": "python",
   "nbconvert_exporter": "python",
   "pygments_lexer": "ipython3",
   "version": "3.10.10"
  }
 },
 "nbformat": 4,
 "nbformat_minor": 5
}

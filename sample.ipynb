{
 "cells": [
  {
   "cell_type": "markdown",
   "id": "5666a1b9",
   "metadata": {},
   "source": [
    "# TODO\n",
    "- we need to get more data into test the ideas - it should be easy to ingest data and iterating on the Task model might be the way to go\n",
    "- API\n",
    "- the project build and releast\n",
    "- try benchmark datasets\n",
    "- start the 20 posts and work through testing\n",
    "\n",
    "## Status\n",
    " we have a pretty good model for types, functions, runners and postgres. We can tighten up the typing and generation of types \n",
    "\n",
    "## wishlist\n",
    " - add the duck and lance implmentations / redis for Entity store - and combine then into one embedded store\n",
    " - much richer postgres implementation\n",
    " - graph queries\n",
    " - dynamic type generation\n",
    " "
   ]
  },
  {
   "cell_type": "code",
   "execution_count": null,
   "id": "2f65e25b",
   "metadata": {},
   "outputs": [],
   "source": [
    "import funkyprompt\n",
    "from IPython.display import Markdown\n",
    "from funkyprompt.core import   load_entities\n",
    "# from funkyprompt.services import language_model_client_from_context\n",
    "# from funkyprompt.core.agents import MessageStack\n",
    "from funkyprompt.core import AbstractEntity,AbstractModel, ConversationModel, AbstractContentModel\n",
    "#Markdown(load_entities()[0].get_model_as_prompt())\n",
    "# from funkyprompt.core.agents import CallingContext\n",
    "from funkyprompt.core.agents import Runner\n",
    "from funkyprompt.core.agents import QueryClassifier\n",
    "# model = language_model_client_from_context()\n",
    "# model('what is the capital of ireland')\n",
    "#funkyprompt.ask(\"what is the capital of ireland\")\n",
    "#r = Runner()\n",
    "#r('what is the capital of ireland')\n",
    "#funkyprompt.run('what is the capital of ireland')\n",
    "#funkyprompt.run('please ask for help and let me know what the status of planning in funkyprompt is')\n",
    "#load_entities()\n",
    "from funkyprompt.entities import Task\n",
    "\n",
    "from funkyprompt.services import entity_store\n",
    "#entity_store(Task).ask('id like to see task named Design101 ') #<-confidence in entity name\n",
    "#entity_store(Task).ask('id like to see tasks that are in status TODO ') #<-confidence in entity status\n",
    "#entity_store(Task).ask('id like to see example public.tasks ') #<-confidence query\n",
    "#entity_store(Task).ask('id like to see tasks for funkyprompt') #<confidence vector search within neg inner prodict -0.79\n"
   ]
  },
  {
   "cell_type": "code",
   "execution_count": null,
   "id": "11d677c5",
   "metadata": {},
   "outputs": [],
   "source": [
    "from funkyprompt.services.data.lance import LanceDBService\n",
    "from funkyprompt.core.utils import index_codebase, help\n",
    "#index_codebase(provider=LanceDBService)\n",
    "help('How does the postgres service work - what way does it use the query classifier', provider=LanceDBService, raw_search=False)"
   ]
  },
  {
   "cell_type": "code",
   "execution_count": null,
   "id": "ce98f5af",
   "metadata": {},
   "outputs": [],
   "source": [
    "from funkyprompt.core.agents import CallingContext, LanguageModel, MessageStack\n",
    "from funkyprompt.core.agents.MessageStack import SystemMessage\n",
    "import json\n",
    "data = {'asdf':'asta'}\n",
    "messages= [\n",
    "            SystemMessage(content=f'The data below were retrieved from a resource and can be used to answer the users question\\n````{json.dumps(data,default=str)}``')\n",
    "        ]\n",
    "question = 'test'\n",
    "MessageStack(question=question,messages=messages, model=AbstractContentModel)"
   ]
  },
  {
   "cell_type": "code",
   "execution_count": null,
   "id": "80dfe410",
   "metadata": {},
   "outputs": [],
   "source": [
    "# a= AbstractContentModel.create_model(name='codebase', namespace='core')\n",
    "\n",
    "# a._register()"
   ]
  },
  {
   "cell_type": "code",
   "execution_count": null,
   "id": "f8182677",
   "metadata": {},
   "outputs": [],
   "source": [
    "from funkyprompt.core.utils import index_codebase, help\n",
    "help('How can this library help me with buildint AI agents?', raw_search=False)\n",
    "#index_codebase()"
   ]
  },
  {
   "cell_type": "code",
   "execution_count": null,
   "id": "80b792a7",
   "metadata": {},
   "outputs": [],
   "source": [
    "#QueryClassifier._classify_question_as_query_for_model(model=Task,question='id like to see task Design101 and all tasks that were completed in the last month',preview=False)\n",
    "#Markdown(QueryClassifier._classify_question_as_query_for_model(model=Task,question='id like to see task Design101 and all tasks that were completed in the last month',preview=False, return_model=False))"
   ]
  },
  {
   "cell_type": "code",
   "execution_count": null,
   "id": "a2242de8",
   "metadata": {},
   "outputs": [],
   "source": [
    "#Markdown(QueryClassifier._classify_question_as_query_for_model(model=Task,question='id like to see all my tasks with status as TODO',preview=False, return_model=False))\n",
    "Markdown(QueryClassifier._classify_question_as_query_for_model(model=Task,question='id like to see tasks for funkyprompt',preview=False, return_model=False))"
   ]
  },
  {
   "cell_type": "code",
   "execution_count": null,
   "id": "992c151a",
   "metadata": {},
   "outputs": [],
   "source": [
    "#Markdown(QueryClassifier._classify_question_as_query_for_model(model=Task,question='id like to see all my tasks related to programming and where complex functionl langauge are discussed',preview=False, return_model=False))"
   ]
  },
  {
   "cell_type": "code",
   "execution_count": null,
   "id": "dad0266e",
   "metadata": {},
   "outputs": [],
   "source": [
    "\n",
    "\n",
    "#Task._register()\n",
    "\n",
    "t = Runner(Task)\n",
    "#t(\"Can you create a task called Design101. This is for designing the funkybrain project which will be a reference implementation for funkyprompt. Add labels such as AI, RAG and Postgres to it and Id like to complete it by next week\",limit=2)\n",
    "#t('can you set the task Design101 due date to next week',limit=2)\n",
    "t('can you list my tasks',limit=2)"
   ]
  },
  {
   "cell_type": "code",
   "execution_count": null,
   "id": "a688d136",
   "metadata": {},
   "outputs": [],
   "source": [
    "t(\"What functions do you have to change task status?\")"
   ]
  },
  {
   "cell_type": "code",
   "execution_count": null,
   "id": "ad2bf3f0",
   "metadata": {},
   "outputs": [],
   "source": [
    "from funkyprompt.services import entity_store\n",
    "entity_store(Task).get_nodes_by_name('Design101')"
   ]
  },
  {
   "cell_type": "code",
   "execution_count": null,
   "id": "ad187c5b",
   "metadata": {},
   "outputs": [],
   "source": [
    "from funkyprompt.services import entity_store\n",
    "from funkyprompt.core import AbstractModel\n",
    "#entity_store(AbstractModel).execute('select * from information_schema.tables')"
   ]
  },
  {
   "cell_type": "code",
   "execution_count": null,
   "id": "632f57de",
   "metadata": {},
   "outputs": [],
   "source": [
    "# entity_store(AbstractModel).__drop_table__()\n",
    "# entity_store(AbstractModel)._create_model()"
   ]
  },
  {
   "cell_type": "code",
   "execution_count": null,
   "id": "c44361ae",
   "metadata": {},
   "outputs": [],
   "source": [
    "#ConversationModel._register()"
   ]
  },
  {
   "cell_type": "code",
   "execution_count": null,
   "id": "2aa2437d",
   "metadata": {},
   "outputs": [],
   "source": [
    "funkyprompt.run('please ask for help and let me know what the status of planning in funkyprompt is')"
   ]
  },
  {
   "cell_type": "code",
   "execution_count": null,
   "id": "3b14da7f",
   "metadata": {},
   "outputs": [],
   "source": [
    "# from funkyprompt.entities import Project\n",
    "# from funkyprompt.core import ConversationModel\n",
    "# from funkyprompt.services import entity_store\n",
    "# store =entity_store(Project)\n",
    "# store.vector_search('what projects tell us about sirsh interests')\n",
    "# store =entity_store(ConversationModel)\n",
    "# store.vector_search('what did i asked about installing postgres on the mac')\n",
    "# #store.vector_search('{\"question\": \"please ask for help and let me know what the status of planning in funkyprompt is\", \"The status of planning in Funkyprompt is currently pending. It is suggested to use world knowledge for now. If you have any specific questions or need assistance with something, feel free to ask!\": \"The status of planning in Funkyprompt is currently pending. It is suggested to use world knowledge for now. If you have any specific questions or need assistance with something, feel free to ask!\"}')"
   ]
  },
  {
   "cell_type": "code",
   "execution_count": null,
   "id": "c45cd351",
   "metadata": {},
   "outputs": [],
   "source": [
    "#store.update_records(p)"
   ]
  },
  {
   "cell_type": "code",
   "execution_count": null,
   "id": "3f965c63",
   "metadata": {},
   "outputs": [],
   "source": [
    "# Entity state - the task\n"
   ]
  },
  {
   "cell_type": "code",
   "execution_count": null,
   "id": "968f2914",
   "metadata": {},
   "outputs": [],
   "source": [
    "# advanced - thoughts/currents/states/learning\n",
    "# using graph links and duck aggregate types\n",
    "\n",
    "# objectives, current thinking, priorisation\n",
    "\n",
    "#funkybrain.ask('what am i doing this week')\n",
    "#funkybrain.ask('what should i do this week')\n",
    "#funkybrain.ask('what should i do today')\n",
    "\n",
    "#funkybrain.summarize(SummaryModel) #-> a store reorganized\n",
    "\n",
    "# changing state is either a way to upsert or change attributes on records or a separate summary record that mutates \n",
    "##. - like a favourites links that can be added or dissolved\n",
    "# therefore a node like 'today' or 'this week' which would actually be dynamically resoled can have links \n",
    "#...link bulder agent\n",
    "#...maybe a summary node should always be done like this i.e. not on the same grain as flat records \n"
   ]
  }
 ],
 "metadata": {
  "kernelspec": {
   "display_name": "Python 3 (ipykernel)",
   "language": "python",
   "name": "python3"
  },
  "language_info": {
   "codemirror_mode": {
    "name": "ipython",
    "version": 3
   },
   "file_extension": ".py",
   "mimetype": "text/x-python",
   "name": "python",
   "nbconvert_exporter": "python",
   "pygments_lexer": "ipython3",
   "version": "3.10.10"
  }
 },
 "nbformat": 4,
 "nbformat_minor": 5
}

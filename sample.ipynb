{
 "cells": [
  {
   "cell_type": "code",
   "execution_count": null,
   "id": "f2ba59e1",
   "metadata": {},
   "outputs": [],
   "source": [
    "import funkyprompt\n",
    "from funkyprompt import agent, describe_function\n",
    "from funkyprompt.io import add_context\n",
    "from funkyprompt.ops.examples import get_context\n",
    "from funkyprompt.ops.entities import AbstractVectorStoreEntry, InstructAbstractVectorStoreEntry\n",
    "from funkyprompt.io.stores import VectorDataStore\n",
    "from funkyprompt.io.tools.ingestion import ingest_pdf"
   ]
  },
  {
   "cell_type": "code",
   "execution_count": null,
   "id": "1d9d3399",
   "metadata": {},
   "outputs": [],
   "source": [
    "store = VectorDataStore(InstructAbstractVectorStoreEntry.create_model(\"BookChapters-open-ai\"))\n",
    "store.plot()"
   ]
  },
  {
   "cell_type": "code",
   "execution_count": null,
   "id": "39227792",
   "metadata": {},
   "outputs": [],
   "source": [
    "store = VectorDataStore(InstructAbstractVectorStoreEntry.create_model(\"BookChapters-instruct\"))\n",
    "store.plot()"
   ]
  },
  {
   "cell_type": "code",
   "execution_count": null,
   "id": "9885a704",
   "metadata": {},
   "outputs": [],
   "source": [
    "questions = [  'What can you tell me about emergence of complexity in natural systems through evolution and the also H-4 clock for sailing and navigation',\n",
    "               'What can you tell me about emergence of complexity in natural systems through evolution',\n",
    "               'what can you tell me about the invention of the H-4 clock for sailing and navigation'        ]\n",
    "\n",
    "#store(questions, refine_factor=None, limit =5)"
   ]
  },
  {
   "cell_type": "code",
   "execution_count": null,
   "id": "5ce8bf6d",
   "metadata": {},
   "outputs": [],
   "source": [
    "agent(\"What can you tell me about emergence of complexity in natural systems through evolution and the invention of the H-4 clock for sailing and navigation\", \n",
    "      [store.as_function_description()])"
   ]
  },
  {
   "cell_type": "code",
   "execution_count": null,
   "id": "a6c26e59",
   "metadata": {},
   "outputs": [],
   "source": [
    "store_a = VectorDataStore(InstructAbstractVectorStoreEntry.create_model(\"BookChapters-instruct\"))\n",
    "store_b = VectorDataStore(AbstractVectorStoreEntry.create_model(\"BookChapters-open-ai\"))"
   ]
  },
  {
   "cell_type": "code",
   "execution_count": null,
   "id": "96d33d82",
   "metadata": {},
   "outputs": [],
   "source": [
    "store_b.plot(questions=questions, plot_type='interactive', )"
   ]
  },
  {
   "cell_type": "code",
   "execution_count": null,
   "id": "d94dedcd",
   "metadata": {},
   "outputs": [],
   "source": [
    "questions = [  'What can you tell me about emergence of complexity in natural systems through evolution and the invention of the H-4 clock for sailing and navigation',\n",
    "               'What can you tell me about emergence of complexity in natural systems through evolution',\n",
    "               'what can you tell me about the invention of the H-4 clock for sailing and navigation'        ]\n",
    "\n"
   ]
  },
  {
   "cell_type": "code",
   "execution_count": null,
   "id": "b51618ac",
   "metadata": {},
   "outputs": [],
   "source": [
    "store_a.plot(questions=questions, theme='fire')\n",
    "store_b.plot(questions=questions, theme='fire')"
   ]
  },
  {
   "cell_type": "code",
   "execution_count": null,
   "id": "af704e58",
   "metadata": {},
   "outputs": [],
   "source": []
  },
  {
   "cell_type": "code",
   "execution_count": null,
   "id": "f7d7faf4",
   "metadata": {},
   "outputs": [],
   "source": [
    "#         limit: int = 5,\n",
    "#         probes: int = 20,\n",
    "#         refine_factor: int = 10,\n",
    "#         metric=\"l2\",\n",
    "store = VectorDataStore(InstructAbstractVectorStoreEntry.create_model(\"InstructBookChapters\"))\n",
    "# agent(\"What can you tell me about emergence of complexity in natural systems through evolution or the invention of the clock H-4 as mentioned in the book by Sobel\", \n",
    "#       [store.as_function_description(\"\"\"Provides details about everything - if you are not sure about context run this function. \n",
    "#       If you are asked about multiple things at once you should pass a list questions to the query parameter and not just one. \n",
    "#       Try the compund as query 1 and then add several other questies \"\"\")])"
   ]
  },
  {
   "cell_type": "code",
   "execution_count": null,
   "id": "02ef6422",
   "metadata": {},
   "outputs": [],
   "source": [
    "import numpy as np\n",
    "e = store._embeddings('tes')\n",
    "type(list(e.astype(np.float32))[0])"
   ]
  },
  {
   "cell_type": "code",
   "execution_count": null,
   "id": "cdee6db4",
   "metadata": {},
   "outputs": [],
   "source": [
    "file = \"/Users/sirsh/Downloads/HiddenOrder.pdf\"\n",
    "file = \"/Users/sirsh/Downloads/Longitude.epub\"\n",
    "\n",
    "#ingest_pdf('OpenAIBookChapters', file )"
   ]
  },
  {
   "cell_type": "code",
   "execution_count": null,
   "id": "2049a6b8",
   "metadata": {},
   "outputs": [],
   "source": [
    "store = VectorDataStore(InstructAbstractVectorStoreEntry.create_model(\"InstructBookChapters\"))\n",
    "agent(\"What can you tell me about emergence of complexity in natural systems through evolution or the invention of the clock\", \n",
    "      [store.as_function_description(\"Provides details about everything - if you are not sure about context run this function\")])"
   ]
  },
  {
   "cell_type": "code",
   "execution_count": null,
   "id": "269bae2c",
   "metadata": {},
   "outputs": [],
   "source": [
    "store = VectorDataStore._load_vector_store(\"OpenAiBookChapters\")\n",
    "agent(\"What can you tell me about emergence of complexity in natural systems through evolution or the invention of the clock\", \n",
    "      [store.as_function_description(\"Provides details about everything - if you are not sure about context run this function\")])"
   ]
  },
  {
   "cell_type": "code",
   "execution_count": null,
   "id": "f6d4a796",
   "metadata": {},
   "outputs": [],
   "source": [
    "file = \"/Users/sirsh/Documents/Archive/books/Hidden Order How Adaptation Builds Complexity (Helix Books) by John Holland (z-lib.org).pdf\"\n",
    "\n",
    "ingest_pdf('Longitude', file)"
   ]
  },
  {
   "cell_type": "code",
   "execution_count": null,
   "id": "fc308cac",
   "metadata": {},
   "outputs": [],
   "source": [
    "a(\"What do you know  Emergence - How do feedback loops play a role in this ?\")"
   ]
  },
  {
   "cell_type": "code",
   "execution_count": null,
   "id": "4474c544",
   "metadata": {},
   "outputs": [],
   "source": [
    "#its working on this interface\n",
    "#do we need a generic function for stores\n",
    "#do we need to do some better handling e.g. table exists exceptions etc."
   ]
  },
  {
   "cell_type": "code",
   "execution_count": null,
   "id": "6519323a",
   "metadata": {},
   "outputs": [],
   "source": [
    "from funkyprompt.ops.examples import get_persons_favourite_thing_of_type, get_persons_action_if_you_know_favourite_type_of_thing\n",
    "from funkyprompt.ops.utils.inspector import describe_function\n",
    "fns = [describe_function(get_persons_favourite_thing_of_type), describe_function(get_persons_action_if_you_know_favourite_type_of_thing)]\n",
    "#agent(\"What would you expect a person who likes cats to do?\", fns)\n",
    "#agent(\"John has email address john@gmail.com. What is John favourite color and his most likely action?\", fns)\n",
    "#agent(\"What is John@gmail.com's favourite color and his most likely action?\", fns)\n"
   ]
  },
  {
   "cell_type": "code",
   "execution_count": null,
   "id": "ca166f69",
   "metadata": {},
   "outputs": [],
   "source": [
    "#agent(\"What is John@gmail.com's favourite color and his most likely action? Lookup functions to get more information if you are not sure\")\n",
    "#agent(\"What is John@gmail.com's favourite color and his most likely action? \")"
   ]
  },
  {
   "cell_type": "markdown",
   "id": "dccf85f1",
   "metadata": {},
   "source": [
    "# Friday problem\n",
    "- why does agent sometimes call the fucntion and then sometimes talk about calling the function - we can use auto or not "
   ]
  },
  {
   "cell_type": "code",
   "execution_count": null,
   "id": "fc0797d1",
   "metadata": {},
   "outputs": [],
   "source": [
    "q= f\"\"\"\n",
    "Please generate a Pydantic object and save it as Recipe.py for the data given below.\n",
    "- Use only snakecase column names and alises the Pydantic fields to map from the provided data to our schema\n",
    "- Simplify the schema to select up to 10 of what you consider to be the primary attributes for a Recipe.\n",
    "- the Config should have a sample_url with the value {url}.\n",
    "The data to use for generating the type is here however you should flatten the parent object so there are no child objects and then map the values in the root validator.\n",
    "To be clear map all the data to one Pydantic object.\n",
    "You should call the function to save the object or your final answer should be in the structure that the function expects.\n",
    "Data:\n",
    "{sample}\n",
    "\"\"\"\n",
    "\n",
    "q = f\"\"\"Please generate and save a Pydantic object for the following data using data you were trained on {sample},\n",
    "        use snakecase for all new attributes and use Pydantic field alises to map from the provided sample data,\n",
    "        You can use Pydantic validators to simplify attribites for the following reasons\n",
    "        - Generally try to simplify all attributes to primitives or lists of primitives.\n",
    "        - some attributes are lists with only one itemm You should map those to a string\n",
    "        - some attributes have a dict with only one attribute. You should also map those to a string.\n",
    "        - If an attribute as a list of complex types its ok to keep those and even define a child type\n",
    "        - You should make all but the top 5 or 6 essential properties optional\n",
    "\"\"\"\n",
    "\n",
    "answer = agent.ask(q)\n",
    "answer"
   ]
  },
  {
   "cell_type": "code",
   "execution_count": null,
   "id": "b18a3ae2",
   "metadata": {},
   "outputs": [],
   "source": [
    "from funkyprompt.ops.utils.parsing import parse_fenced_code_blocks\n",
    "pt = parse_fenced_code_blocks(answer, select_type='python')[0]\n",
    "with open(\"/Users/sirsh/Downloads/rev3.py\", 'w') as f:\n",
    "    f.write(pt)"
   ]
  },
  {
   "cell_type": "code",
   "execution_count": null,
   "id": "a40c32f4",
   "metadata": {},
   "outputs": [],
   "source": [
    "data['video']"
   ]
  },
  {
   "cell_type": "code",
   "execution_count": null,
   "id": "5d82452f",
   "metadata": {},
   "outputs": [],
   "source": [
    "# Plan:\n",
    "- A Save pydantic \"specalism\" will save the file but also explain the strategy for how to make it. This is better than a generic save file"
   ]
  },
  {
   "cell_type": "code",
   "execution_count": null,
   "id": "06a3727c",
   "metadata": {},
   "outputs": [],
   "source": []
  },
  {
   "cell_type": "markdown",
   "id": "3e952744",
   "metadata": {},
   "source": [
    "# Issues i have with LLM\n",
    "- calling lookup available functions for no apparent reason\n",
    "- not calling save function why"
   ]
  },
  {
   "cell_type": "code",
   "execution_count": null,
   "id": "4d892242",
   "metadata": {},
   "outputs": [],
   "source": [
    "!pip install diagrams"
   ]
  },
  {
   "cell_type": "code",
   "execution_count": null,
   "id": "faa02399",
   "metadata": {},
   "outputs": [],
   "source": [
    "from diagrams.k8s.clusterconfig import HPA\n",
    "from diagrams import Diagram\n",
    "with Diagram(\"Stateful Architecture\", show=False, outformat='svg') as g: \n",
    "    h = HPA('test')\n",
    "h"
   ]
  },
  {
   "cell_type": "code",
   "execution_count": null,
   "id": "683c6135",
   "metadata": {},
   "outputs": [],
   "source": []
  }
 ],
 "metadata": {
  "kernelspec": {
   "display_name": "Python 3 (ipykernel)",
   "language": "python",
   "name": "python3"
  },
  "language_info": {
   "codemirror_mode": {
    "name": "ipython",
    "version": 3
   },
   "file_extension": ".py",
   "mimetype": "text/x-python",
   "name": "python",
   "nbconvert_exporter": "python",
   "pygments_lexer": "ipython3",
   "version": "3.10.10"
  }
 },
 "nbformat": 4,
 "nbformat_minor": 5
}

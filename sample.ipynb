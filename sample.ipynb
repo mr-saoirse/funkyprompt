{
 "cells": [
  {
   "cell_type": "code",
   "execution_count": null,
   "id": "d58503ec",
   "metadata": {},
   "outputs": [],
   "source": [
    "import os\n",
    "os.environ['FP_LOG_LEVEL'] = 'TRACE'\n",
    "\n",
    "import funkyprompt\n",
    "from funkyprompt.io.stores import ColumnarDataStore\n",
    "#the \n",
    "from funkyprompt.io import VectorDataStore\n",
    "from funkyprompt.model import AbstractContentModel, AbstractModel, InstructEmbeddingContentModel\n",
    "from funkyprompt import FunkyRegistry\n",
    "d = FunkyRegistry().load()\n",
    "\n",
    "Model = InstructEmbeddingContentModel.create_model('NewBookChapters')\n",
    "store= VectorDataStore(Model, description='')\n"
   ]
  },
  {
   "cell_type": "code",
   "execution_count": null,
   "id": "f93ca469",
   "metadata": {},
   "outputs": [],
   "source": [
    "funkyprompt.agent"
   ]
  },
  {
   "cell_type": "code",
   "execution_count": null,
   "id": "cc38cff7",
   "metadata": {},
   "outputs": [],
   "source": []
  },
  {
   "cell_type": "code",
   "execution_count": null,
   "id": "03660fc2",
   "metadata": {},
   "outputs": [],
   "source": [
    "from funkyprompt.model.entity import SchemaOrgVectorEntity\n",
    "from funkyprompt.io.tools.ingestion import get_page_json_ld_data\n",
    "url = 'https://www.maangchi.com/recipe/tongbaechu-kimchi'\n",
    "data = get_page_json_ld_data(url) \n",
    "RecipeType = SchemaOrgVectorEntity.create_model_from_schema(\"Recipe\", data)\n",
    "recipe = RecipeType(**data)\n",
    "recipe"
   ]
  },
  {
   "cell_type": "code",
   "execution_count": null,
   "id": "a03e2873",
   "metadata": {},
   "outputs": [],
   "source": [
    "vs = VectorDataStore(RecipeType, description='a store for cooking recipes')\n",
    "vs.add(RecipeType(**data))"
   ]
  },
  {
   "cell_type": "code",
   "execution_count": null,
   "id": "eeed6ae4",
   "metadata": {},
   "outputs": [],
   "source": [
    "from funkyprompt.io.stores.VectorStoreBase import QueryOptions\n",
    "opt = QueryOptions(columns=['name','content'])\n",
    "vs('kimchi', query_options=opt)"
   ]
  },
  {
   "cell_type": "code",
   "execution_count": null,
   "id": "d7bd0812",
   "metadata": {},
   "outputs": [],
   "source": [
    "r = vs.as_agent()(\"tell me exactly how to make Kimchi giving me ingredients in metric units and calling out any key reminders?\")\n",
    "r"
   ]
  },
  {
   "cell_type": "code",
   "execution_count": null,
   "id": "053df5b9",
   "metadata": {},
   "outputs": [],
   "source": [
    "play_response(r)"
   ]
  },
  {
   "cell_type": "code",
   "execution_count": null,
   "id": "62e947c3",
   "metadata": {},
   "outputs": [],
   "source": [
    "\n",
    "# import lance\n",
    "# lance.write_dataset(df, store._table_uri, schema=store._model.to_arrow_schema(), mode='overwrite')"
   ]
  },
  {
   "cell_type": "code",
   "execution_count": null,
   "id": "205ccc9c",
   "metadata": {},
   "outputs": [],
   "source": [
    " \n",
    "# #source your data\n",
    "# url = \"https://www.gutenberg.org/files/20748/20748-h/20748-h.htm\"\n",
    "# #create a type for it - it does not need any attributes unless you want to add some\n",
    "# class FairyTales(InstructEmbeddingContentModel):\n",
    "#     pass\n",
    "# from funkyprompt.io.tools.ingestion import iterate_types_from_headed_paragraphs\n",
    "# data = list(iterate_types_from_headed_paragraphs(url, FairyTales))\n",
    "Model = InstructEmbeddingContentModel.create_model('FairlyTales')\n",
    "store = VectorDataStore(Model, description='Classiic Fairy tales - short stories about Snow White, Sinbad, etc')\n",
    "# store.add(data)\n",
    "# store.load()"
   ]
  },
  {
   "cell_type": "code",
   "execution_count": null,
   "id": "810d20a6",
   "metadata": {},
   "outputs": [],
   "source": [
    "store._table.search('sinbads retirement location').to_pandas()"
   ]
  },
  {
   "cell_type": "code",
   "execution_count": null,
   "id": "5856f021",
   "metadata": {},
   "outputs": [],
   "source": [
    "from lancedb.table import _sanitize_data\n",
    "schema = InstructEmbeddingContentModel.create_model('FairyTalesTester2').to_arrow_schema()\n",
    "_sanitize_data(data=[{'name':'test', 'content':'test', 'updated_by':None, 'updated_at': None}], schema=schema, metadata=schema.metadata, on_bad_vectors='error', fill_value=0.)"
   ]
  },
  {
   "cell_type": "code",
   "execution_count": null,
   "id": "a128a57a",
   "metadata": {},
   "outputs": [],
   "source": [
    "\n",
    "Model = AbstractModel.create_model(name='NycTaxiData', namespace='default')\n",
    "store = ColumnarDataStore(Model, description='New York Trips Taxi data are provided for some selected months. People travel in taxis to places like Brooklyn, Manhatten, Queens, Carrol Gardens etc.')\n",
    "#store.register_store()\n",
    "#store('trips to carrol gardens')\n",
    "#store.load()\n",
    "store.fetch_entities()"
   ]
  },
  {
   "cell_type": "code",
   "execution_count": null,
   "id": "f59c3f66",
   "metadata": {},
   "outputs": [],
   "source": [
    "import pandas as pd\n",
    "df = pd.read_parquet('/Users/sirsh/.funkyprompt/columnar-store/default/NycTaxiData/parts/0/data.parquet')\n",
    "#for d in ['pick_up_at', 'drop_off_at']:\n",
    "#    df[d] = pd.to_datetime(df[d])\n",
    "#df.to_parquet('/Users/sirsh/.funkyprompt/columnar-store/default/NycTaxiData/parts/0/data.parquet')\n",
    "df['index'] = df['index'].astype(str)\n",
    "df.rename(columns={'index':'name'}).to_parquet('/Users/sirsh/.funkyprompt/columnar-store/default/NycTaxiData/parts/0/data.parquet')"
   ]
  },
  {
   "cell_type": "code",
   "execution_count": null,
   "id": "b8ff6a04",
   "metadata": {},
   "outputs": [],
   "source": [
    "ee = store.fetch_entities()"
   ]
  },
  {
   "cell_type": "code",
   "execution_count": null,
   "id": "2bd58fec",
   "metadata": {},
   "outputs": [],
   "source": [
    "from funkyprompt.io.stores import AbstractStore\n",
    "s = AbstractStore.restore_from_data(d.to_dicts()[0],True)\n",
    "s.function_dict()"
   ]
  },
  {
   "cell_type": "code",
   "execution_count": null,
   "id": "35193539",
   "metadata": {},
   "outputs": [],
   "source": [
    "import funkyprompt\n",
    "funkyprompt.agent(\" What was the longest trip durating (in minutes) travelling to New York Airtports in Taxis?\")"
   ]
  },
  {
   "cell_type": "code",
   "execution_count": null,
   "id": "160cb72b",
   "metadata": {},
   "outputs": [],
   "source": [
    "import datetime\n",
    "from funkyprompt.model import NpEncoder\n",
    "import json\n",
    "\n",
    "json.dumps([{'longest_trip_duration_to_airport': datetime.timedelta(seconds=31973)}], cls=NpEncoder, default=str)"
   ]
  },
  {
   "cell_type": "code",
   "execution_count": null,
   "id": "6128ecd1",
   "metadata": {},
   "outputs": [],
   "source": [
    "\n",
    "\n",
    "Model = AbstractContentModel.create_model(name='zoos', namespace='test')\n",
    "store = VectorDataStore(Model, description='This one is for storing animal information', register_store=True)\n",
    "store.register_store()\n",
    "store"
   ]
  },
  {
   "cell_type": "code",
   "execution_count": null,
   "id": "75e34d78",
   "metadata": {},
   "outputs": [],
   "source": [
    "store.add([\n",
    "    Model(**{'name':'r1', 'content': 'animals and stuff'}),\n",
    "    Model(**{'name':'r2', 'content': 'cars and stuff'}),\n",
    "    Model(**{'name':'r3', 'content': 'space and stuff'}),\n",
    "    Model(**{'name':'r4', 'content': 'food and stuff'}),\n",
    "    Model(**{'name':'r5', 'content': 'tech and stuff'}),\n",
    "    \n",
    "])\n",
    "import polars as pl\n",
    "a = store('look for animals')\n",
    "a.filter(pl.col('_distance')<0.4)"
   ]
  },
  {
   "cell_type": "code",
   "execution_count": null,
   "id": "a109306f",
   "metadata": {},
   "outputs": [],
   "source": [
    "query_root = store._table.search('look for animals of any kind such as zebras').limit(4) \n",
    "query_root"
   ]
  },
  {
   "cell_type": "code",
   "execution_count": null,
   "id": "d6f20287",
   "metadata": {},
   "outputs": [],
   "source": [
    "store('look for animals fo any kind')"
   ]
  },
  {
   "cell_type": "code",
   "execution_count": null,
   "id": "f2ba59e1",
   "metadata": {},
   "outputs": [],
   "source": [
    "import funkyprompt\n",
    "from funkyprompt import agent, describe_function\n",
    "from funkyprompt.io import add_context\n",
    "from funkyprompt.ops.examples import get_context\n",
    "from funkyprompt.ops.entities import AbstractVectorStoreEntry, InstructAbstractVectorStoreEntry, AbstractEntity\n",
    "from funkyprompt.io.stores import VectorDataStore, list_stores, open_store, get_probe\n",
    "from funkyprompt.io.tools.ingestion import ingest_pdf, ingest_arrow, simple_scrape_links, ingest_pdf_using_instruct_embedding, SimpleJsonLDSpider, _ingest_web_page, ingest_page_to_model\n",
    "from funkyprompt import agent\n",
    "from funkyprompt.ops.utils.inspector import list_functions, load_op\n",
    "from funkyprompt.io.stores.index import update_function_index, add_cluster_summaries\n",
    "# list_stores()\n",
    "# update_function_index()\n",
    "# store = open_store(**{'type': 'vector-store', 'namespace': 'default', 'name': 'FunctionIndex-instruct'})\n",
    "# #store = open_store(**{'type': 'vector-store', 'namespace': 'default', 'name': 'PaulGraham'}, embedding_provider='instruct')\n",
    "# store.load()\n",
    "\n",
    "store = InstructAbstractVectorStoreEntry.create_model('BookChapters-instruct').as_store()\n",
    "store"
   ]
  },
  {
   "cell_type": "code",
   "execution_count": null,
   "id": "458319dc",
   "metadata": {},
   "outputs": [],
   "source": [
    "from pathlib import Path\n",
    "from openai import OpenAI\n",
    "import os\n",
    "\n",
    "def play_response(text, voice='shimmer'):\n",
    "    \"\"\"\n",
    "    temp sample\n",
    "    \"\"\"\n",
    "    client = OpenAI()\n",
    "    #https://stackoverflow.com/questions/20021457/playing-mp3-song-on-python\n",
    "    speech_file_path = Path('/tmp') / \"speech.mp3\"\n",
    "    response = client.audio.speech.create(\n",
    "      model=\"tts-1\",\n",
    "      voice=voice,\n",
    "      input=text\n",
    "    )\n",
    "    response.stream_to_file(speech_file_path)\n",
    "    os.system(f\"afplay {speech_file_path}\")\n",
    "    \n",
    "    return response"
   ]
  },
  {
   "cell_type": "code",
   "execution_count": null,
   "id": "15b07868",
   "metadata": {},
   "outputs": [],
   "source": [
    "import openai\n",
    "openai.__version__"
   ]
  },
  {
   "cell_type": "code",
   "execution_count": null,
   "id": "4cd8b0ef",
   "metadata": {},
   "outputs": [],
   "source": [
    "a = store.as_agent()\n",
    "a"
   ]
  },
  {
   "cell_type": "code",
   "execution_count": null,
   "id": "1ae18043",
   "metadata": {},
   "outputs": [],
   "source": [
    "a('please summarize 10  great mathamicians in history - why were there contributions important')"
   ]
  },
  {
   "cell_type": "code",
   "execution_count": null,
   "id": "b39623f3",
   "metadata": {},
   "outputs": [],
   "source": [
    "## Inspect functions and Plan execution"
   ]
  },
  {
   "cell_type": "code",
   "execution_count": null,
   "id": "56085dd9",
   "metadata": {},
   "outputs": [],
   "source": [
    "## Ask questions"
   ]
  },
  {
   "cell_type": "code",
   "execution_count": null,
   "id": "5d62dd83",
   "metadata": {},
   "outputs": [],
   "source": [
    "## Plot Embeddings"
   ]
  },
  {
   "cell_type": "code",
   "execution_count": null,
   "id": "86524257",
   "metadata": {},
   "outputs": [],
   "source": []
  }
 ],
 "metadata": {
  "kernelspec": {
   "display_name": "Python 3 (ipykernel)",
   "language": "python",
   "name": "python3"
  },
  "language_info": {
   "codemirror_mode": {
    "name": "ipython",
    "version": 3
   },
   "file_extension": ".py",
   "mimetype": "text/x-python",
   "name": "python",
   "nbconvert_exporter": "python",
   "pygments_lexer": "ipython3",
   "version": "3.10.10"
  }
 },
 "nbformat": 4,
 "nbformat_minor": 5
}

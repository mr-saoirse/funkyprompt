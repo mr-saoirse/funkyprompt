{
 "cells": [
  {
   "cell_type": "markdown",
   "id": "5666a1b9",
   "metadata": {},
   "source": [
    "# TODO\n",
    "- we need to get more data into test the ideas - it should be easy to ingest data and iterating on the Task model might be the way to go\n",
    "- API\n",
    "- the project build and releast\n",
    "- try benchmark datasets\n",
    "- start the 20 posts and work through testing\n",
    "\n",
    "## Status\n",
    " we have a pretty good model for types, functions, runners and postgres. We can tighten up the typing and generation of types \n",
    "\n",
    "## wishlist\n",
    " - add the duck and lance implmentations / redis for Entity store - and combine then into one embedded store\n",
    " - much richer postgres implementation\n",
    " - graph queries\n",
    " - dynamic type generation\n",
    " "
   ]
  },
  {
   "cell_type": "markdown",
   "id": "4881f131",
   "metadata": {},
   "source": [
    "# Big questions\n",
    "What is the blocker and the friction; making it easy to add data that we can then re-organize feels important \n",
    "\n",
    "1. Combining text search e.g. find *all* TODOs\n",
    "2. Making it easy to ingest data and intent\n",
    "3. some sort of basic user interface to manage content\n",
    "4. How to best use graphs - motif bombs \n",
    "5. Building structured data on background processes which also stresses the query planner (tasks and plans are an example if this as primaries)\n",
    "6. adding the other agents and eval frameworks - measuring \"prompt ambiguity\"\n",
    "7. parsers will be important - link managers, newsletter snippets\n",
    "\n",
    "From this emerges blocks\n",
    "\n",
    "- [A] Parsers and ingestors\n",
    "- [B] Data modellers and depicters \n",
    "- [C] Query planners\n",
    "- [D] General computer interfaces \n",
    "\n",
    "**Maybe i work on them in this order focusing on parsing out graph structures and entity ingestion**"
   ]
  },
  {
   "cell_type": "code",
   "execution_count": null,
   "id": "2f65e25b",
   "metadata": {},
   "outputs": [],
   "source": [
    "import funkyprompt\n",
    "from IPython.display import Markdown\n",
    "from funkyprompt.core import   load_entities\n",
    "# from funkyprompt.services import language_model_client_from_context\n",
    "# from funkyprompt.core.agents import MessageStack\n",
    "from funkyprompt.core import AbstractEntity,AbstractModel, ConversationModel, AbstractContentModel\n",
    "#Markdown(load_entities()[0].get_model_as_prompt())\n",
    "# from funkyprompt.core.agents import CallingContext\n",
    "from funkyprompt.core.agents import Runner\n",
    "from funkyprompt.core.agents import QueryClassifier\n",
    "# model = language_model_client_from_context()\n",
    "# model('what is the capital of ireland')\n",
    "#funkyprompt.ask(\"what is the capital of ireland\")\n",
    "#r = Runner()\n",
    "#r('what is the capital of ireland')\n",
    "#funkyprompt.run('what is the capital of ireland')\n",
    "#funkyprompt.run('please ask for help and let me know what the status of planning in funkyprompt is')\n",
    "#load_entities()\n",
    "from funkyprompt.entities import Task\n",
    "\n",
    "from funkyprompt.services import entity_store\n",
    "#entity_store(Task).ask('id like to see task named Design101 ') #<-confidence in entity name\n",
    "#entity_store(Task).ask('id like to see tasks that are in status TODO ') #<-confidence in entity status\n",
    "#entity_store(Task).ask('id like to see example public.tasks ') #<-confidence query\n",
    "#entity_store(Task).ask('id like to see tasks for funkyprompt') #<confidence vector search within neg inner prodict -0.79\n",
    "from funkyprompt.services.data.lance import LanceDBService\n",
    "from funkyprompt.core.utils import index_codebase, help, ingest_files\n",
    "from funkyprompt.core.utils.parsing import scrape_text\n",
    "\n",
    "#scrape_text('https://github.com/myscale/MyScaleDB')\n"
   ]
  },
  {
   "cell_type": "markdown",
   "id": "8c48419c",
   "metadata": {},
   "source": [
    "# TODO \n",
    "\n",
    "- 1 . test the round trip of saving and loading the runner's type - check help model instances etc.\n",
    "- 2 . test loading a different entity type and still having access to the methods on that entity - its a matter of function manager registration when the types are loaded via the store\n",
    "- 3 . create upsert tests for different types of entities\n",
    "- 4 . once we have done this, we can add the graph bomb - a graph bomb uses an abstract models to_graph to store structures\n",
    "- 5 . this can all be put together with conversations and we can build concepts (stigmergic)\n",
    "\n",
    "after we do this, we will the be generating lots of data that we can start testing query planning with and then function planning which requiers traversing over entity metadata"
   ]
  },
  {
   "cell_type": "code",
   "execution_count": null,
   "id": "8dcd8c03",
   "metadata": {},
   "outputs": [],
   "source": [
    "from funkyprompt.entities import Project\n",
    "\n",
    "r = Runner(Project)\n",
    "\"\"\"this is a great and simple round trip test that i should keep - it requires the agent to load the entity and update it\n",
    "but the magic is in how we register the entity and functions which has nothing to do with the agent per se.\n",
    "\"\"\"\n",
    "#r(\"can you add the label 'tested2' to the project entity called `test`\")\n",
    "#r(\"can you update the description for the project entity called `test` by adding the phrase, 'goodbye and thanks to all the fishes' at the end\")\n",
    "\n",
    "#add a note to the end of the description and save\n",
    "r.lookup_entity('test')"
   ]
  },
  {
   "cell_type": "code",
   "execution_count": null,
   "id": "ba65f69f",
   "metadata": {},
   "outputs": [],
   "source": [
    "from inspect import getmembers, isfunction, isclass, ismethod, ismodule \n",
    "import types\n",
    "import typing\n",
    "from pydantic import BaseModel, Field\n",
    "from enum import Enum\n",
    "import importlib, pkgutil\n",
    "\n",
    "def get_defining_class(member,cls):\n",
    "    name = member.__name__\n",
    "    defining_class = getattr(member, '__objclass__', None)\n",
    "    if defining_class:\n",
    "        return defining_class\n",
    "\n",
    "    for base_class in cls.mro():\n",
    "        if name in base_class.__dict__:\n",
    "            return base_class\n",
    "    return None\n",
    "    \n",
    "def is_strict_subclass(subclass, superclass):\n",
    "    return issubclass(subclass, superclass) and subclass is not superclass\n",
    "\n",
    "for name, member in getmembers(Project):\n",
    "    if isfunction(member) or ismethod(member):\n",
    "        defining_class = get_defining_class(member,Project)\n",
    "        \n",
    "        # Check if the method belongs to the class and not inherited\n",
    "        \n",
    "        print(name,member, defining_class, defining_class, is_strict_subclass(defining_class,AbstractModel))"
   ]
  },
  {
   "cell_type": "code",
   "execution_count": null,
   "id": "29262dde",
   "metadata": {},
   "outputs": [],
   "source": [
    "member.__name__"
   ]
  },
  {
   "cell_type": "markdown",
   "id": "2652398e",
   "metadata": {},
   "source": [
    "# questions\n",
    "- entity loader should not load the embedding if its been selected via the entity \n",
    "- "
   ]
  },
  {
   "cell_type": "code",
   "execution_count": null,
   "id": "a18386ca",
   "metadata": {},
   "outputs": [],
   "source": [
    " entity_store(Project).get_nodes_by_name('test')"
   ]
  },
  {
   "cell_type": "code",
   "execution_count": null,
   "id": "2789c8e2",
   "metadata": {},
   "outputs": [],
   "source": [
    "from funkyprompt.services import entity_store\n",
    "\n",
    "entities =  entity_store(Project).get_nodes_by_name('test')\n",
    "entities"
   ]
  },
  {
   "cell_type": "code",
   "execution_count": null,
   "id": "265edd92",
   "metadata": {},
   "outputs": [],
   "source": [
    "r.lookup_entity(key='test')"
   ]
  },
  {
   "cell_type": "code",
   "execution_count": null,
   "id": "1ab2ebc0",
   "metadata": {},
   "outputs": [],
   "source": [
    "#ingest_files(\"/Users/sirsh/Downloads/Roam-Export-1723329526148/\", name='roam_notes')\n",
    "M=AbstractContentModel.create_model(name='roam_notes', namespace='public')\n",
    "#M._ask('are there any substack notes ?')\n",
    "#index_codebase(provider=LanceDBService)\n",
    "#help('How does the lance db service work - what way does it use the query classifier', provider=None, raw_search=False)\n",
    "d=entity_store(AbstractContentModel).execute(\"select content,name from public.roam_notes  order by created_at desc limit 20\")[17]\n",
    "d"
   ]
  },
  {
   "cell_type": "markdown",
   "id": "b0366ffd",
   "metadata": {},
   "source": [
    "# What is the big idea\n",
    "- we have a database of types including entities and edges\n",
    "- now we need a smart way to map structured types to these underlying entities\n",
    "- for example, if we have a subclass of category we may want to route it underlying types\n",
    "- its unclear if we cheating too much here - might depend on the context\n",
    "- start by seing how the agent maps the structures and then we can map it to the database by splitting out entities"
   ]
  },
  {
   "cell_type": "code",
   "execution_count": null,
   "id": "f652b49a",
   "metadata": {},
   "outputs": [],
   "source": [
    "from funkyprompt.entities.nodes import TaskIdeaSummary\n",
    "      \n",
    "    \n",
    "Markdown(TaskIdeaSummary.get_model_as_prompt())\n",
    "        "
   ]
  },
  {
   "cell_type": "code",
   "execution_count": null,
   "id": "43e75b28",
   "metadata": {},
   "outputs": [],
   "source": [
    "import json\n",
    "R = Runner(TaskIdeaSummary)\n",
    "Markdown(R.explain(d))"
   ]
  },
  {
   "cell_type": "code",
   "execution_count": null,
   "id": "17b9c57d",
   "metadata": {},
   "outputs": [],
   "source": [
    "\n",
    "Markdown(funkyprompt.run(f\"\"\"\n",
    "1. What are some of the main ideas in the text below. please be detailed. \n",
    "2. also list the domain names (extract just the domain name without the full path first) and what you know about them in a list - include the full original link also - \\n```{d}```\n",
    "3. list all the real world entities mentioned in the text and what you know about them - you should inicate if its a specific entity e.g. person or thing or place OR if its a more general concept - you should provide also the category\n",
    "4. Finally, considering my goals bellow, please provide tasks that link resources to goals. describe how ther resource could be used. Give an estimated utility score from 0 to 100 for the activity. Also describe the effort in terms of estimated days to do the work and how actionable it seems.\n",
    "When creating tasks you can consider the type of activity a knowledge worker might have i.e. read or study, build or write, contract or network etc. It is ok to have multiple tasks for the same goal.\n",
    "\n",
    "**my prioritized goals**\n",
    "1. create a business for personal knowledge management AI with rich support for databases of different types such as key-value, sql, vetor and graph\n",
    "2  Write as much as possible and finding good tools to manage my writing\n",
    "3. undertand the challanges people face to day in terms of managing knowledge and personal growth\n",
    "4. learning new AI methods and data modeling methods\n",
    "5. possible integrations from popular services and my app\n",
    "  \n",
    "\"\"\"))"
   ]
  },
  {
   "cell_type": "code",
   "execution_count": null,
   "id": "b58c40f3",
   "metadata": {},
   "outputs": [],
   "source": [
    "from urllib.parse import urlparse\n",
    "p=urlparse('https://github.com/myscale/MyScaleDB')\n",
    "p"
   ]
  },
  {
   "cell_type": "code",
   "execution_count": null,
   "id": "3cc961e0",
   "metadata": {},
   "outputs": [],
   "source": [
    "import requests\n",
    "from bs4 import BeautifulSoup\n",
    "url = 'https://github.com/myscale/MyScaleDB'\n",
    "url = 'https://raw.githubusercontent.com/myscale/MyScaleDB/main/README.md'\n",
    "response = requests.get(url)\n",
    "soup = BeautifulSoup(response.text, 'html.parser')\n",
    "soup#Markdown(soup.get_text())"
   ]
  },
  {
   "cell_type": "code",
   "execution_count": null,
   "id": "5cc60e35",
   "metadata": {},
   "outputs": [],
   "source": [
    "response"
   ]
  },
  {
   "cell_type": "code",
   "execution_count": null,
   "id": "0f678463",
   "metadata": {},
   "outputs": [],
   "source": [
    "Markdown(entity_store(AbstractContentModel).execute(\"select content,name from public.roam_notes  order by created_at desc limit 10\")[3]['content'])"
   ]
  },
  {
   "cell_type": "code",
   "execution_count": null,
   "id": "c8f3d90d",
   "metadata": {},
   "outputs": [],
   "source": [
    "from funkyprompt.core.agents import CallingContext, LanguageModel, MessageStack\n",
    "from funkyprompt.core.agents.MessageStack import SystemMessage\n",
    "import json\n",
    "data = {'asdf':'asta'}\n",
    "messages= [\n",
    "            SystemMessage(content=f'The data below were retrieved from a resource and can be used to answer the users question\\n````{json.dumps(data,default=str)}``')\n",
    "        ]\n",
    "question = 'test'\n",
    "MessageStack(question=question,messages=messages, model=AbstractContentModel)"
   ]
  },
  {
   "cell_type": "code",
   "execution_count": null,
   "id": "623c0b6e",
   "metadata": {},
   "outputs": [],
   "source": [
    "# a= AbstractContentModel.create_model(name='codebase', namespace='core')\n",
    "\n",
    "# a._register()"
   ]
  },
  {
   "cell_type": "code",
   "execution_count": null,
   "id": "4cd1ce88",
   "metadata": {},
   "outputs": [],
   "source": [
    "from funkyprompt.core.utils import index_codebase, help\n",
    "help('How can this library help me with buildint AI agents?', raw_search=False)\n",
    "#index_codebase()"
   ]
  },
  {
   "cell_type": "code",
   "execution_count": null,
   "id": "80b792a7",
   "metadata": {},
   "outputs": [],
   "source": [
    "#QueryClassifier._classify_question_as_query_for_model(model=Task,question='id like to see task Design101 and all tasks that were completed in the last month',preview=False)\n",
    "#Markdown(QueryClassifier._classify_question_as_query_for_model(model=Task,question='id like to see task Design101 and all tasks that were completed in the last month',preview=False, return_model=False))"
   ]
  },
  {
   "cell_type": "code",
   "execution_count": null,
   "id": "a2242de8",
   "metadata": {},
   "outputs": [],
   "source": [
    "#Markdown(QueryClassifier._classify_question_as_query_for_model(model=Task,question='id like to see all my tasks with status as TODO',preview=False, return_model=False))\n",
    "Markdown(QueryClassifier._classify_question_as_query_for_model(model=Task,question='id like to see tasks for funkyprompt',preview=False, return_model=False))"
   ]
  },
  {
   "cell_type": "code",
   "execution_count": null,
   "id": "992c151a",
   "metadata": {},
   "outputs": [],
   "source": [
    "#Markdown(QueryClassifier._classify_question_as_query_for_model(model=Task,question='id like to see all my tasks related to programming and where complex functionl langauge are discussed',preview=False, return_model=False))"
   ]
  },
  {
   "cell_type": "code",
   "execution_count": null,
   "id": "dad0266e",
   "metadata": {},
   "outputs": [],
   "source": [
    "\n",
    "\n",
    "#Task._register()\n",
    "\n",
    "t = Runner(Task)\n",
    "#t(\"Can you create a task called Design101. This is for designing the funkybrain project which will be a reference implementation for funkyprompt. Add labels such as AI, RAG and Postgres to it and Id like to complete it by next week\",limit=2)\n",
    "#t('can you set the task Design101 due date to next week',limit=2)\n",
    "t('can you list my tasks',limit=2)"
   ]
  },
  {
   "cell_type": "code",
   "execution_count": null,
   "id": "a688d136",
   "metadata": {},
   "outputs": [],
   "source": [
    "t(\"What functions do you have to change task status?\")"
   ]
  },
  {
   "cell_type": "code",
   "execution_count": null,
   "id": "ad2bf3f0",
   "metadata": {},
   "outputs": [],
   "source": [
    "from funkyprompt.services import entity_store\n",
    "entity_store(Task).get_nodes_by_name('Design101')"
   ]
  },
  {
   "cell_type": "code",
   "execution_count": null,
   "id": "ad187c5b",
   "metadata": {},
   "outputs": [],
   "source": [
    "from funkyprompt.services import entity_store\n",
    "from funkyprompt.core import AbstractModel\n",
    "#entity_store(AbstractModel).execute('select * from information_schema.tables')"
   ]
  },
  {
   "cell_type": "code",
   "execution_count": null,
   "id": "632f57de",
   "metadata": {},
   "outputs": [],
   "source": [
    "# entity_store(AbstractModel).__drop_table__()\n",
    "# entity_store(AbstractModel)._create_model()"
   ]
  },
  {
   "cell_type": "code",
   "execution_count": null,
   "id": "c44361ae",
   "metadata": {},
   "outputs": [],
   "source": [
    "#ConversationModel._register()"
   ]
  },
  {
   "cell_type": "code",
   "execution_count": null,
   "id": "2aa2437d",
   "metadata": {},
   "outputs": [],
   "source": [
    "funkyprompt.run('please ask for help and let me know what the status of planning in funkyprompt is')"
   ]
  },
  {
   "cell_type": "code",
   "execution_count": null,
   "id": "3b14da7f",
   "metadata": {},
   "outputs": [],
   "source": [
    "# from funkyprompt.entities import Project\n",
    "# from funkyprompt.core import ConversationModel\n",
    "# from funkyprompt.services import entity_store\n",
    "# store =entity_store(Project)\n",
    "# store.vector_search('what projects tell us about sirsh interests')\n",
    "# store =entity_store(ConversationModel)\n",
    "# store.vector_search('what did i asked about installing postgres on the mac')\n",
    "# #store.vector_search('{\"question\": \"please ask for help and let me know what the status of planning in funkyprompt is\", \"The status of planning in Funkyprompt is currently pending. It is suggested to use world knowledge for now. If you have any specific questions or need assistance with something, feel free to ask!\": \"The status of planning in Funkyprompt is currently pending. It is suggested to use world knowledge for now. If you have any specific questions or need assistance with something, feel free to ask!\"}')"
   ]
  },
  {
   "cell_type": "code",
   "execution_count": null,
   "id": "c45cd351",
   "metadata": {},
   "outputs": [],
   "source": [
    "#store.update_records(p)"
   ]
  },
  {
   "cell_type": "code",
   "execution_count": null,
   "id": "3f965c63",
   "metadata": {},
   "outputs": [],
   "source": [
    "# Entity state - the task\n"
   ]
  },
  {
   "cell_type": "code",
   "execution_count": null,
   "id": "968f2914",
   "metadata": {},
   "outputs": [],
   "source": [
    "# advanced - thoughts/currents/states/learning\n",
    "# using graph links and duck aggregate types\n",
    "\n",
    "# objectives, current thinking, priorisation\n",
    "\n",
    "#funkybrain.ask('what am i doing this week')\n",
    "#funkybrain.ask('what should i do this week')\n",
    "#funkybrain.ask('what should i do today')\n",
    "\n",
    "#funkybrain.summarize(SummaryModel) #-> a store reorganized\n",
    "\n",
    "# changing state is either a way to upsert or change attributes on records or a separate summary record that mutates \n",
    "##. - like a favourites links that can be added or dissolved\n",
    "# therefore a node like 'today' or 'this week' which would actually be dynamically resoled can have links \n",
    "#...link bulder agent\n",
    "#...maybe a summary node should always be done like this i.e. not on the same grain as flat records \n"
   ]
  }
 ],
 "metadata": {
  "kernelspec": {
   "display_name": "Python 3 (ipykernel)",
   "language": "python",
   "name": "python3"
  },
  "language_info": {
   "codemirror_mode": {
    "name": "ipython",
    "version": 3
   },
   "file_extension": ".py",
   "mimetype": "text/x-python",
   "name": "python",
   "nbconvert_exporter": "python",
   "pygments_lexer": "ipython3",
   "version": "3.10.10"
  }
 },
 "nbformat": 4,
 "nbformat_minor": 5
}

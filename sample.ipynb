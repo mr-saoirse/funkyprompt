{
 "cells": [
  {
   "cell_type": "code",
   "execution_count": null,
   "id": "f2ba59e1",
   "metadata": {},
   "outputs": [],
   "source": [
    "import funkyprompt\n",
    "from funkyprompt import agent, describe_function"
   ]
  },
  {
   "cell_type": "code",
   "execution_count": null,
   "id": "97cf5b04",
   "metadata": {},
   "outputs": [],
   "source": [
    "from funkyprompt.io.tools.downloader import get_page_json_ld_data \n",
    "from funkyprompt.ops.entities import SchemaOrgVectorEntity\n",
    "data = get_page_json_ld_data('https://www.theinfatuation.com/new-york/reviews/blackbirds')\n",
    "Review = SchemaOrgVectorEntity.create_model_from_schema(\"Review\", data, text_fields =['review_body'])\n",
    "data['text'] = data['reviewBody']\n",
    "r = Review(**data) \n",
    "\n",
    "from funkyprompt.io.stores import VectorDataStore\n",
    "vs = VectorDataStore(Review)\n"
   ]
  },
  {
   "cell_type": "code",
   "execution_count": null,
   "id": "4c858a01",
   "metadata": {},
   "outputs": [],
   "source": [
    "vs.query(\"select text, vector from dataset\")"
   ]
  },
  {
   "cell_type": "code",
   "execution_count": null,
   "id": "c9691dd7",
   "metadata": {},
   "outputs": [],
   "source": [
    "from funkyprompt.io.tools.spider import SimpleJsonLDSpider\n",
    "s = SimpleJsonLDSpider('https://www.theinfatuation.com', prefix_filter='/new-york/reviews/')\n",
    "r = s.get_sitemap()\n",
    "r"
   ]
  },
  {
   "cell_type": "code",
   "execution_count": null,
   "id": "05fcd25e",
   "metadata": {},
   "outputs": [],
   "source": [
    "# recs = []\n",
    "# i = 0\n",
    "# for url, jld_data in s.iterate_pages(limit=500):\n",
    "#     jld_data['text'] = jld_data['reviewBody']\n",
    "#     jld_data['reviewRating'] = jld_data.get('reviewRating') or \"-1\"\n",
    "    \n",
    "#     recs.append(  Review(**jld_data) )\n",
    "#     i += 1\n",
    "    \n",
    "\n",
    "#     print(i)"
   ]
  },
  {
   "cell_type": "code",
   "execution_count": null,
   "id": "f6bdcff2",
   "metadata": {},
   "outputs": [],
   "source": [
    "vs.add(recs)"
   ]
  },
  {
   "cell_type": "code",
   "execution_count": null,
   "id": "6e3e9391",
   "metadata": {},
   "outputs": [],
   "source": [
    "vs.load()"
   ]
  },
  {
   "cell_type": "code",
   "execution_count": null,
   "id": "6fe9ad02",
   "metadata": {},
   "outputs": [],
   "source": [
    "page[1].contents"
   ]
  },
  {
   "cell_type": "code",
   "execution_count": null,
   "id": "4474c544",
   "metadata": {},
   "outputs": [],
   "source": [
    "#its working on this interface\n",
    "#do we need a generic function for stores\n",
    "#do we need to do some better handling e.g. table exists exceptions etc.\n",
    "\n",
    "\n",
    "\n"
   ]
  },
  {
   "cell_type": "code",
   "execution_count": null,
   "id": "0860e84c",
   "metadata": {},
   "outputs": [],
   "source": []
  },
  {
   "cell_type": "code",
   "execution_count": null,
   "id": "6519323a",
   "metadata": {},
   "outputs": [],
   "source": [
    "from funkyprompt.ops.examples import get_persons_favourite_thing_of_type, get_persons_action_if_you_know_favourite_type_of_thing\n",
    "from funkyprompt.ops.utils.inspector import describe_function\n",
    "fns = [describe_function(get_persons_favourite_thing_of_type), describe_function(get_persons_action_if_you_know_favourite_type_of_thing)]\n",
    "#agent(\"What would you expect a person who likes cats to do?\", fns)\n",
    "#agent(\"John has email address john@gmail.com. What is John favourite color and his most likely action?\", fns)\n",
    "#agent(\"What is John@gmail.com's favourite color and his most likely action?\", fns)\n"
   ]
  },
  {
   "cell_type": "code",
   "execution_count": null,
   "id": "ca166f69",
   "metadata": {},
   "outputs": [],
   "source": [
    "#agent(\"What is John@gmail.com's favourite color and his most likely action? Lookup functions to get more information if you are not sure\")\n",
    "#agent(\"What is John@gmail.com's favourite color and his most likely action? \")"
   ]
  },
  {
   "cell_type": "markdown",
   "id": "dccf85f1",
   "metadata": {},
   "source": [
    "# Friday problem\n",
    "- why does agent sometimes call the fucntion and then sometimes talk about calling the function - we can use auto or not "
   ]
  },
  {
   "cell_type": "code",
   "execution_count": null,
   "id": "fc0797d1",
   "metadata": {},
   "outputs": [],
   "source": [
    "q= f\"\"\"\n",
    "Please generate a Pydantic object and save it as Recipe.py for the data given below.\n",
    "- Use only snakecase column names and alises the Pydantic fields to map from the provided data to our schema\n",
    "- Simplify the schema to select up to 10 of what you consider to be the primary attributes for a Recipe.\n",
    "- the Config should have a sample_url with the value {url}.\n",
    "The data to use for generating the type is here however you should flatten the parent object so there are no child objects and then map the values in the root validator.\n",
    "To be clear map all the data to one Pydantic object.\n",
    "You should call the function to save the object or your final answer should be in the structure that the function expects.\n",
    "Data:\n",
    "{sample}\n",
    "\"\"\"\n",
    "\n",
    "q = f\"\"\"Please generate and save a Pydantic object for the following data using data you were trained on {sample},\n",
    "        use snakecase for all new attributes and use Pydantic field alises to map from the provided sample data,\n",
    "        You can use Pydantic validators to simplify attribites for the following reasons\n",
    "        - Generally try to simplify all attributes to primitives or lists of primitives.\n",
    "        - some attributes are lists with only one itemm You should map those to a string\n",
    "        - some attributes have a dict with only one attribute. You should also map those to a string.\n",
    "        - If an attribute as a list of complex types its ok to keep those and even define a child type\n",
    "        - You should make all but the top 5 or 6 essential properties optional\n",
    "\"\"\"\n",
    "\n",
    "answer = agent.ask(q)\n",
    "answer"
   ]
  },
  {
   "cell_type": "code",
   "execution_count": null,
   "id": "b18a3ae2",
   "metadata": {},
   "outputs": [],
   "source": [
    "from funkyprompt.ops.utils.parsing import parse_fenced_code_blocks\n",
    "pt = parse_fenced_code_blocks(answer, select_type='python')[0]\n",
    "with open(\"/Users/sirsh/Downloads/rev3.py\", 'w') as f:\n",
    "    f.write(pt)"
   ]
  },
  {
   "cell_type": "code",
   "execution_count": null,
   "id": "a40c32f4",
   "metadata": {},
   "outputs": [],
   "source": [
    "data['video']"
   ]
  },
  {
   "cell_type": "code",
   "execution_count": null,
   "id": "5d82452f",
   "metadata": {},
   "outputs": [],
   "source": [
    "# Plan:\n",
    "- A Save pydantic \"specalism\" will save the file but also explain the strategy for how to make it. This is better than a generic save file"
   ]
  },
  {
   "cell_type": "code",
   "execution_count": null,
   "id": "06a3727c",
   "metadata": {},
   "outputs": [],
   "source": []
  },
  {
   "cell_type": "markdown",
   "id": "3e952744",
   "metadata": {},
   "source": [
    "# Issues i have with LLM\n",
    "- calling lookup available functions for no apparent reason\n",
    "- not calling save function why"
   ]
  },
  {
   "cell_type": "code",
   "execution_count": null,
   "id": "4d892242",
   "metadata": {},
   "outputs": [],
   "source": [
    "!pip install diagrams"
   ]
  },
  {
   "cell_type": "code",
   "execution_count": null,
   "id": "faa02399",
   "metadata": {},
   "outputs": [],
   "source": [
    "from diagrams.k8s.clusterconfig import HPA\n",
    "from diagrams import Diagram\n",
    "with Diagram(\"Stateful Architecture\", show=False, outformat='svg') as g: \n",
    "    h = HPA('test')\n",
    "h"
   ]
  },
  {
   "cell_type": "code",
   "execution_count": null,
   "id": "683c6135",
   "metadata": {},
   "outputs": [],
   "source": []
  }
 ],
 "metadata": {
  "kernelspec": {
   "display_name": "Python 3 (ipykernel)",
   "language": "python",
   "name": "python3"
  },
  "language_info": {
   "codemirror_mode": {
    "name": "ipython",
    "version": 3
   },
   "file_extension": ".py",
   "mimetype": "text/x-python",
   "name": "python",
   "nbconvert_exporter": "python",
   "pygments_lexer": "ipython3",
   "version": "3.10.10"
  }
 },
 "nbformat": 4,
 "nbformat_minor": 5
}

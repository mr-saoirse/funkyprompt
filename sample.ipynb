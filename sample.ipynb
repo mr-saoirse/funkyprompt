{
 "cells": [
  {
   "cell_type": "code",
   "execution_count": null,
   "id": "f2ba59e1",
   "metadata": {},
   "outputs": [],
   "source": [
    "import funkyprompt\n",
    "from funkyprompt import agent, describe_function\n",
    "from funkyprompt.io import add_context\n",
    "from funkyprompt.ops.examples import get_context\n",
    "from funkyprompt.ops.entities import AbstractVectorStoreEntry, InstructAbstractVectorStoreEntry, AbstractEntity\n",
    "from funkyprompt.io.stores import VectorDataStore, list_stores, open_store, get_probe\n",
    "from funkyprompt.io.tools.ingestion import ingest_pdf, ingest_arrow, simple_scrape_links, ingest_pdf_using_instruct_embedding, SimpleJsonLDSpider, _ingest_web_page, ingest_page_to_model\n",
    "from funkyprompt import agent\n",
    "from funkyprompt.ops.utils.inspector import list_functions, load_op\n",
    "from funkyprompt.io.stores.index import update_function_index, add_cluster_summaries\n",
    "# list_stores()\n",
    "# update_function_index()\n",
    "# store = open_store(**{'type': 'vector-store', 'namespace': 'default', 'name': 'FunctionIndex-instruct'})\n",
    "# #store = open_store(**{'type': 'vector-store', 'namespace': 'default', 'name': 'PaulGraham'}, embedding_provider='instruct')\n",
    "# store.load()\n",
    "\n",
    "store = InstructAbstractVectorStoreEntry.create_model('BookChapters-instruct').as_store()\n",
    "store"
   ]
  },
  {
   "cell_type": "code",
   "execution_count": null,
   "id": "458319dc",
   "metadata": {},
   "outputs": [],
   "source": [
    "from pathlib import Path\n",
    "from openai import OpenAI\n",
    "import os\n",
    "\n",
    "def play_response(text, voice='shimmer'):\n",
    "    \"\"\"\n",
    "    temp sample\n",
    "    \"\"\"\n",
    "    client = OpenAI()\n",
    "    #https://stackoverflow.com/questions/20021457/playing-mp3-song-on-python\n",
    "    speech_file_path = Path('/tmp') / \"speech.mp3\"\n",
    "    response = client.audio.speech.create(\n",
    "      model=\"tts-1\",\n",
    "      voice=voice,\n",
    "      input=text\n",
    "    )\n",
    "    response.stream_to_file(speech_file_path)\n",
    "    os.system(f\"afplay {speech_file_path}\")\n",
    "    \n",
    "    return response"
   ]
  },
  {
   "cell_type": "code",
   "execution_count": null,
   "id": "15b07868",
   "metadata": {},
   "outputs": [],
   "source": [
    "import openai\n",
    "openai.__version__"
   ]
  },
  {
   "cell_type": "code",
   "execution_count": null,
   "id": "4cd8b0ef",
   "metadata": {},
   "outputs": [],
   "source": [
    "a = store.as_agent()\n",
    "a"
   ]
  },
  {
   "cell_type": "code",
   "execution_count": null,
   "id": "1ae18043",
   "metadata": {},
   "outputs": [],
   "source": [
    "a('please summarize 10  great mathamicians in history - why were there contributions important')"
   ]
  },
  {
   "cell_type": "code",
   "execution_count": null,
   "id": "b39623f3",
   "metadata": {},
   "outputs": [],
   "source": [
    "## Inspect functions and Plan execution"
   ]
  },
  {
   "cell_type": "code",
   "execution_count": null,
   "id": "56085dd9",
   "metadata": {},
   "outputs": [],
   "source": [
    "## Ask questions"
   ]
  },
  {
   "cell_type": "code",
   "execution_count": null,
   "id": "5d62dd83",
   "metadata": {},
   "outputs": [],
   "source": [
    "## Plot Embeddings"
   ]
  },
  {
   "cell_type": "code",
   "execution_count": null,
   "id": "86524257",
   "metadata": {},
   "outputs": [],
   "source": []
  }
 ],
 "metadata": {
  "kernelspec": {
   "display_name": "Python 3 (ipykernel)",
   "language": "python",
   "name": "python3"
  },
  "language_info": {
   "codemirror_mode": {
    "name": "ipython",
    "version": 3
   },
   "file_extension": ".py",
   "mimetype": "text/x-python",
   "name": "python",
   "nbconvert_exporter": "python",
   "pygments_lexer": "ipython3",
   "version": "3.10.10"
  }
 },
 "nbformat": 4,
 "nbformat_minor": 5
}

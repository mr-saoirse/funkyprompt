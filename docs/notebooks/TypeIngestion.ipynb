{
 "cells": [
  {
   "cell_type": "code",
   "execution_count": null,
   "id": "97377fa0",
   "metadata": {},
   "outputs": [],
   "source": [
    "import sys\n",
    "sys.path.append('../../')\n",
    "import funkyprompt"
   ]
  },
  {
   "cell_type": "code",
   "execution_count": null,
   "id": "94012770",
   "metadata": {},
   "outputs": [],
   "source": [
    "from funkyprompt.agent.tasks import generate_type_sample\n",
    "\n",
    "data = generate_type_sample('https://www.theinfatuation.com/new-york/guides/where-to-eat-in-fort-greene-clinton-hill', name='Reviews')\n",
    "data"
   ]
  },
  {
   "cell_type": "code",
   "execution_count": null,
   "id": "71aec8a1",
   "metadata": {},
   "outputs": [],
   "source": []
  }
 ],
 "metadata": {
  "kernelspec": {
   "display_name": "Python 3 (ipykernel)",
   "language": "python",
   "name": "python3"
  },
  "language_info": {
   "codemirror_mode": {
    "name": "ipython",
    "version": 3
   },
   "file_extension": ".py",
   "mimetype": "text/x-python",
   "name": "python",
   "nbconvert_exporter": "python",
   "pygments_lexer": "ipython3",
   "version": "3.10.10"
  }
 },
 "nbformat": 4,
 "nbformat_minor": 5
}

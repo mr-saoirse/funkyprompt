{
 "cells": [
  {
   "cell_type": "code",
   "execution_count": null,
   "id": "a6e50a74-e39c-4300-a90b-190a9fb64f76",
   "metadata": {},
   "outputs": [],
   "source": [
    "import ray\n",
    "import time\n",
    "\n",
    "# Start Ray.\n",
    "ray.init()\n",
    "\n",
    "@ray.remote\n",
    "def f(x):\n",
    "    time.sleep(1)\n",
    "    return x\n",
    "\n",
    "# Start 4 tasks in parallel.\n",
    "result_ids = []\n",
    "for i in range(4):\n",
    "    result_ids.append(f.remote(i))\n",
    "    \n",
    "# Wait for the tasks to complete and retrieve the results.\n",
    "# With at least 4 cores, this will take 1 second.\n",
    "results = ray.get(result_ids)  # [0, 1, 2, 3]"
   ]
  },
  {
   "cell_type": "code",
   "execution_count": null,
   "id": "c70f4929-44a4-4bd2-969f-d52a5ed75798",
   "metadata": {},
   "outputs": [],
   "source": []
  }
 ],
 "metadata": {
  "kernelspec": {
   "display_name": "Python 3 (ipykernel)",
   "language": "python",
   "name": "python3"
  },
  "language_info": {
   "codemirror_mode": {
    "name": "ipython",
    "version": 3
   },
   "file_extension": ".py",
   "mimetype": "text/x-python",
   "name": "python",
   "nbconvert_exporter": "python",
   "pygments_lexer": "ipython3",
   "version": "3.10.10"
  }
 },
 "nbformat": 4,
 "nbformat_minor": 5
}

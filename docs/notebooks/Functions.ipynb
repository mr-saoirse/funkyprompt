{
 "cells": [
  {
   "cell_type": "code",
   "execution_count": null,
   "id": "907e126f",
   "metadata": {},
   "outputs": [],
   "source": [
    "import sys\n",
    "sys.path.append('../../')\n",
    "import funkyprompt\n",
    "from funkyprompt import describe_function\n",
    "from funkyprompt import FunkyRegistry\n",
    "reg = FunkyRegistry()\n",
    "df = reg.load()\n",
    "\n",
    "\n",
    "#funkyprompt.agent(\"Use library functions to determine what a person John@gmail.com would do if their favourite color is Gold\")\n",
    "#"
   ]
  },
  {
   "cell_type": "code",
   "execution_count": null,
   "id": "9d9f212a",
   "metadata": {},
   "outputs": [],
   "source": [
    "funkyprompt.agent(\"what function can you used for books\")"
   ]
  },
  {
   "cell_type": "code",
   "execution_count": null,
   "id": "05c9cb9d",
   "metadata": {},
   "outputs": [],
   "source": [
    "funkyprompt.tracer"
   ]
  },
  {
   "cell_type": "code",
   "execution_count": null,
   "id": "c2547c17",
   "metadata": {},
   "outputs": [],
   "source": [
    "f = reg._table.search('Where is is the H-4 clock today - you may need to search for books first?').nprobes(10).refine_factor(20).select(columns=['content', 'metadata']).to_pandas().drop('vector',1)\n",
    "import json\n",
    "json.loads(f.iloc[0]['metadata'])"
   ]
  },
  {
   "cell_type": "code",
   "execution_count": null,
   "id": "0fd08ac7",
   "metadata": {},
   "outputs": [],
   "source": [
    "from funkyprompt.model import AbstractModel\n",
    "from funkyprompt.io import VectorDataStore\n",
    "Model = AbstractModel.create_model('BookChapters', namespace='default')\n",
    "#store = AbstractStore.restore_from_data(eg,as_function_description=False)\n",
    "store = VectorDataStore(Model, description='restored book chapters')"
   ]
  },
  {
   "cell_type": "code",
   "execution_count": null,
   "id": "6b3f1bb8",
   "metadata": {},
   "outputs": [],
   "source": [
    "from funkyprompt.ops.examples.rag import get_information_on_fairy_tale_characters\n",
    "fn = get_information_on_fairy_tale_characters"
   ]
  },
  {
   "cell_type": "code",
   "execution_count": null,
   "id": "cfe4af15",
   "metadata": {},
   "outputs": [],
   "source": [
    "reg('Where is is the H-4 clock today - you may need to search for books first?')"
   ]
  },
  {
   "cell_type": "code",
   "execution_count": null,
   "id": "fd359993",
   "metadata": {},
   "outputs": [],
   "source": [
    "fd = describe_function(fn)\n",
    "fd.factory"
   ]
  },
  {
   "cell_type": "code",
   "execution_count": null,
   "id": "4049879c",
   "metadata": {},
   "outputs": [],
   "source": [
    "#reg.register_function(fd)"
   ]
  },
  {
   "cell_type": "code",
   "execution_count": null,
   "id": "35019f06",
   "metadata": {},
   "outputs": [],
   "source": [
    "#reg('a function for learning about fairy tale characters')"
   ]
  },
  {
   "cell_type": "code",
   "execution_count": null,
   "id": "63424038",
   "metadata": {},
   "outputs": [],
   "source": [
    "data = dict(reg.load().to_dicts()[-2])"
   ]
  },
  {
   "cell_type": "code",
   "execution_count": null,
   "id": "e5c7c8e7",
   "metadata": {},
   "outputs": [],
   "source": [
    "import json\n",
    "json.loads(data['metadata'])['factory']"
   ]
  },
  {
   "cell_type": "code",
   "execution_count": null,
   "id": "50b74d30",
   "metadata": {},
   "outputs": [],
   "source": [
    "from funkyprompt.model import FunctionDescription\n",
    "\n",
    "fd = FunctionDescription.restore(data['metadata'])\n",
    "fd.function(\"Where did sinbad eventually settle down?\")[0]['content']"
   ]
  },
  {
   "cell_type": "code",
   "execution_count": null,
   "id": "4399d073",
   "metadata": {},
   "outputs": [],
   "source": [
    " \n",
    "# #source your data\n",
    "# url = \"https://www.gutenberg.org/files/20748/20748-h/20748-h.htm\"\n",
    "# from funkyprompt.model import InstructEmbeddingContentModel\n",
    "# from funkyprompt.io.tools.ingestion import iterate_types_from_headed_paragraphs\n",
    "# from funkyprompt.io import VectorDataStore\n",
    "\n",
    "\n",
    "# Model = InstructEmbeddingContentModel.create_model('FairlyTales')\n",
    "# data = list(iterate_types_from_headed_paragraphs(url, Model))\n",
    "# store = VectorDataStore(Model, description='Classiic Fairy tales - short stories about Snow White, Sinbad, etc')\n",
    "# store.add(data)\n",
    "# store.load()"
   ]
  },
  {
   "cell_type": "markdown",
   "id": "8b0fa9cc",
   "metadata": {},
   "source": [
    "2023-11-18 19:41:21.956 | INFO     | funkyprompt.agent.AgentBase:run:553 - Here are some tips for forming good habits, as found in the \"Atomic Habits\" book:\n",
    "\n",
    "1. **Make It Obvious**\n",
    "   - Fill out the Habits Scorecard. Write down your current habits to become aware of them.\n",
    "   - Use implementation intentions: \"I will [BEHAVIOR] at [TIME] in [LOCATION].\"\n",
    "   - Use habit stacking: \"After [CURRENT HABIT], I will [NEW HABIT].\"\n",
    "   - Design your environment. Make the cues of good habits obvious and visible.\n",
    "\n",
    "2. **Make It Attractive**\n",
    "   - Use temptation bundling. Pair an action you want to do with an action you need to do.\n",
    "   - Join a culture where your desired behavior is the normal behavior.\n",
    "   - Create a motivation ritual. Do something you enjoy immediately before a difficult habit.\n",
    "\n",
    "3. **Make It Easy**\n",
    "   - Reduce friction. Decrease the number of steps between you and your good habits.\n",
    "   - Prime the environment. Prepare your environment to make future actions easier.\n",
    "   - Master the decisive moment. Optimize the small choices that deliver outsized impact.\n",
    "   - Use the Two-Minute Rule. Downscale your habits until they can be done in two minutes or less.\n",
    "   - Automate your habits. Invest in technology and one-time purchases that lock in future behavior.\n",
    "\n",
    "4. **Make It Satisfying**\n",
    "   - Use reinforcement. Give yourself an immediate reward when you complete your habit.\n",
    "   - Make \"doing nothing\" enjoyable. When avoiding a bad habit, design a way to see the benefits.\n",
    "\n",
    "A note on breaking bad habits: Try to reduce exposure to cues that trigger the unwanted behaviors. Self-control should be considered as a short-term strategy, whereas these tips are meant to create long-term, sustainable habits.\n",
    "\n",
    "For additional resources, they also mentioned habit tracker templates and habits cheat sheets that can be found at atomichabits.com.\n",
    "\n",
    "My confidence in these suggestions is high, and the strategy used was to perform a vector search within the \"Book Chapters\" category, which typically contains practical advice from published literature."
   ]
  },
  {
   "cell_type": "code",
   "execution_count": null,
   "id": "dbfd0018",
   "metadata": {},
   "outputs": [],
   "source": []
  }
 ],
 "metadata": {
  "kernelspec": {
   "display_name": "Python 3 (ipykernel)",
   "language": "python",
   "name": "python3"
  },
  "language_info": {
   "codemirror_mode": {
    "name": "ipython",
    "version": 3
   },
   "file_extension": ".py",
   "mimetype": "text/x-python",
   "name": "python",
   "nbconvert_exporter": "python",
   "pygments_lexer": "ipython3",
   "version": "3.10.10"
  }
 },
 "nbformat": 4,
 "nbformat_minor": 5
}

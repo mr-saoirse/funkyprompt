{
 "cells": [
  {
   "cell_type": "code",
   "execution_count": null,
   "id": "a98d7ad4",
   "metadata": {},
   "outputs": [],
   "source": [
    "import sys\n",
    "sys.path.append('../../')\n",
    "import funkyprompt\n",
    "from funkyprompt import describe_function\n",
    "from funkyprompt import FunkyRegistry\n",
    "reg = FunkyRegistry()\n",
    "df = reg.load()\n",
    "from funkyprompt.model.func import list_functions\n",
    "\n",
    "funkyprompt.agent(\"Use library functions to determine what a person John@gmail.com would do if their favourite color is Gold\")\n",
    "#"
   ]
  },
  {
   "cell_type": "code",
   "execution_count": null,
   "id": "01016612",
   "metadata": {},
   "outputs": [],
   "source": [
    "list_functions()[0].parameters"
   ]
  },
  {
   "cell_type": "code",
   "execution_count": null,
   "id": "8b3f7685",
   "metadata": {},
   "outputs": [],
   "source": [
    "list_functions()"
   ]
  },
  {
   "cell_type": "code",
   "execution_count": null,
   "id": "7900692d",
   "metadata": {},
   "outputs": [],
   "source": [
    "df[['name', 'description', 'metadata']]"
   ]
  },
  {
   "cell_type": "code",
   "execution_count": null,
   "id": "84e78e83",
   "metadata": {},
   "outputs": [],
   "source": [
    "funkyprompt.agent(' where is H-4 clock is located today - you should search and rank and try some of the functions even if they do not seem like they have the answer. use judgement to determine which functions are most likely to help (even if its a long shot)')"
   ]
  },
  {
   "cell_type": "code",
   "execution_count": null,
   "id": "182b7a07",
   "metadata": {},
   "outputs": [],
   "source": [
    "f = reg._table.search('Where is is the H-4 clock today - you may need to search for books first?').nprobes(10).refine_factor(20).select(columns=['content', 'metadata']).to_pandas().drop('vector',1)\n",
    "import json\n",
    "json.loads(f.iloc[0]['metadata'])"
   ]
  },
  {
   "cell_type": "code",
   "execution_count": null,
   "id": "57e18909",
   "metadata": {},
   "outputs": [],
   "source": [
    "from funkyprompt.model import AbstractModel\n",
    "from funkyprompt.io import VectorDataStore\n",
    "Model = AbstractModel.create_model('BookChapters', namespace='default')\n",
    "#store = AbstractStore.restore_from_data(eg,as_function_description=False)\n",
    "store = VectorDataStore(Model, description='restored book chapters')"
   ]
  },
  {
   "cell_type": "code",
   "execution_count": null,
   "id": "f7e8fe3b",
   "metadata": {},
   "outputs": [],
   "source": [
    "from funkyprompt.ops.examples.rag import get_information_on_fairy_tale_characters\n",
    "fn = get_information_on_fairy_tale_characters"
   ]
  },
  {
   "cell_type": "code",
   "execution_count": null,
   "id": "7553e0fd",
   "metadata": {},
   "outputs": [],
   "source": [
    "reg('Where is is the H-4 clock today - you may need to search for books first?')"
   ]
  },
  {
   "cell_type": "code",
   "execution_count": null,
   "id": "4ba9a758",
   "metadata": {},
   "outputs": [],
   "source": [
    "fd = describe_function(fn)\n",
    "fd.factory"
   ]
  },
  {
   "cell_type": "code",
   "execution_count": null,
   "id": "690d228b",
   "metadata": {},
   "outputs": [],
   "source": [
    "#reg.register_function(fd)"
   ]
  },
  {
   "cell_type": "code",
   "execution_count": null,
   "id": "b54fffb2",
   "metadata": {},
   "outputs": [],
   "source": [
    "#reg('a function for learning about fairy tale characters')"
   ]
  },
  {
   "cell_type": "code",
   "execution_count": null,
   "id": "2899b45b",
   "metadata": {},
   "outputs": [],
   "source": [
    "data = dict(reg.load().to_dicts()[-2])"
   ]
  },
  {
   "cell_type": "code",
   "execution_count": null,
   "id": "60c647b6",
   "metadata": {},
   "outputs": [],
   "source": [
    "import json\n",
    "json.loads(data['metadata'])['factory']"
   ]
  },
  {
   "cell_type": "code",
   "execution_count": null,
   "id": "e8d60b64",
   "metadata": {},
   "outputs": [],
   "source": [
    "from funkyprompt.model import FunctionDescription\n",
    "\n",
    "fd = FunctionDescription.restore(data['metadata'])\n",
    "fd.function(\"Where did sinbad eventually settle down?\")[0]['content']"
   ]
  },
  {
   "cell_type": "code",
   "execution_count": null,
   "id": "f7b96179",
   "metadata": {},
   "outputs": [],
   "source": [
    " \n",
    "# #source your data\n",
    "# url = \"https://www.gutenberg.org/files/20748/20748-h/20748-h.htm\"\n",
    "# from funkyprompt.model import InstructEmbeddingContentModel\n",
    "# from funkyprompt.io.tools.ingestion import iterate_types_from_headed_paragraphs\n",
    "# from funkyprompt.io import VectorDataStore\n",
    "\n",
    "\n",
    "# Model = InstructEmbeddingContentModel.create_model('FairlyTales')\n",
    "# data = list(iterate_types_from_headed_paragraphs(url, Model))\n",
    "# store = VectorDataStore(Model, description='Classiic Fairy tales - short stories about Snow White, Sinbad, etc')\n",
    "# store.add(data)\n",
    "# store.load()"
   ]
  },
  {
   "cell_type": "code",
   "execution_count": null,
   "id": "161a1bb0",
   "metadata": {},
   "outputs": [],
   "source": []
  }
 ],
 "metadata": {
  "kernelspec": {
   "display_name": "Python 3 (ipykernel)",
   "language": "python",
   "name": "python3"
  },
  "language_info": {
   "codemirror_mode": {
    "name": "ipython",
    "version": 3
   },
   "file_extension": ".py",
   "mimetype": "text/x-python",
   "name": "python",
   "nbconvert_exporter": "python",
   "pygments_lexer": "ipython3",
   "version": "3.10.10"
  }
 },
 "nbformat": 4,
 "nbformat_minor": 5
}

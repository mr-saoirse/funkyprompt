{
 "cells": [
  {
   "cell_type": "markdown",
   "id": "a1de2f2c",
   "metadata": {},
   "source": [
    "# Working on patterns\n",
    "There are a number of patterns i want to harden that currently are a wIP"
   ]
  },
  {
   "cell_type": "markdown",
   "id": "c349a92a",
   "metadata": {},
   "source": [
    "# 1 Attempting to generate diagrams from prompts\n",
    "- ChatGPT can already do this as it has likely scraped the GitHub repo and learned from it.\n",
    "  We can also train on such libraries in principle to learn to complete \n",
    "  In the meantime its an excercise to see where adding a function is necessary )or not) to direct e.g. specific types of diagrams\n",
    "- making sure to use function calls properly - how to translate requests to arguments reliably e.g. passing the domain\n",
    "- this pattern provide a combination of data and an example to the agent \n",
    "- function descriptions have a max length for open AI so we need to pre-prompt suffiently in the description and then the agent knows what to do to get more info"
   ]
  },
  {
   "cell_type": "code",
   "execution_count": null,
   "id": "f6425ac5",
   "metadata": {},
   "outputs": [],
   "source": [
    "import sys\n",
    "sys.path.append(\"../../../\")"
   ]
  },
  {
   "cell_type": "code",
   "execution_count": null,
   "id": "45f8b879",
   "metadata": {},
   "outputs": [],
   "source": [
    "from funkyprompt import agent, describe_function\n",
    "from funkyprompt.ops.examples.draw.diagrams import draw_diagram_preparation_for_domains\n",
    "\n",
    "fns = [describe_function(draw_diagram_preparation_for_domains, add_sys_fields=True)]\n",
    "\n",
    "diag = agent(\"\"\"\n",
    "Please draw a diagram of a k8s (domain) cluster called 'My Cluster' with two deployments as App1 and App2. \n",
    "In each app, add a link from the deplotment to an ingres and a persistent volume claim.\n",
    "Please add this user request as a comment in the code that you generate.\n",
    "\"\"\", fns)\n",
    "\n",
    "from pprint import pprint\n",
    "from funkyprompt.ops.utils.parsing import parse_fenced_code_blocks\n",
    "pprint(parse_fenced_code_blocks(diag)[0])"
   ]
  },
  {
   "cell_type": "code",
   "execution_count": null,
   "id": "ec0adfb6",
   "metadata": {},
   "outputs": [],
   "source": []
  },
  {
   "cell_type": "code",
   "execution_count": null,
   "id": "c9300bfb",
   "metadata": {},
   "outputs": [],
   "source": [
    "from funkyprompt.io.tools.fs import _save_sample_file_to_home\n",
    "_save_sample_file_to_home(parse_fenced_code_blocks(diag)[0], \"test2.py\", 'diagrams')"
   ]
  },
  {
   "cell_type": "code",
   "execution_count": null,
   "id": "158a8bec",
   "metadata": {},
   "outputs": [],
   "source": []
  }
 ],
 "metadata": {
  "kernelspec": {
   "display_name": "Python 3 (ipykernel)",
   "language": "python",
   "name": "python3"
  },
  "language_info": {
   "codemirror_mode": {
    "name": "ipython",
    "version": 3
   },
   "file_extension": ".py",
   "mimetype": "text/x-python",
   "name": "python",
   "nbconvert_exporter": "python",
   "pygments_lexer": "ipython3",
   "version": "3.10.10"
  }
 },
 "nbformat": 4,
 "nbformat_minor": 5
}

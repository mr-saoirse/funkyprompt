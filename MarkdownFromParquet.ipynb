{
 "cells": [
  {
   "cell_type": "code",
   "execution_count": null,
   "id": "047692d1",
   "metadata": {},
   "outputs": [],
   "source": [
    "from funkyprompt.core.types.markdown import MarkdownAgent\n",
    "from funkyprompt.services import fs\n",
    "\n",
    "#fs.ls('s3://one-ai--use1-az6--x-s3/columnar-store')\n",
    "samples = fs.read('s3://one-ai--use1-az6--x-s3/columnar-store/design/bodies/parts/0/data.parquet')[:2].to_dict('records')\n",
    "from IPython.display import Markdown\n",
    "import json\n",
    "\n",
    "r = MarkdownAgent.build(\n",
    "    f\"\"\"This agent is designed to interact with the bodies. You should use the schema below to create the structured response type for design.bodies and name the agent same.\n",
    "    You should also attach functions on the api for body related tasks such as getting points of measure, body nests by material, status and margins.\n",
    "    \n",
    "    Use the samples in the data to generate details and informative descriptions for each of the response fields. You shoud make an observarion based on the data values and the context on bodies rather than using the name of the field to generate the description (which adds no value)\n",
    "    For typing information you should distinguish betweem strings, dates, lists of strings, ditionaries etc. i.e. things that look like strings are not necessarily strings\n",
    "    ```json\n",
    "    {json.dumps(samples,default=str)}\n",
    "    ```\n",
    "    \"\"\",\n",
    "    'https://data.resmagic.io/meta-one/openapi.json')\n",
    "\n",
    "Markdown(r)"
   ]
  },
  {
   "cell_type": "code",
   "execution_count": null,
   "id": "eb72787c",
   "metadata": {},
   "outputs": [],
   "source": []
  }
 ],
 "metadata": {
  "kernelspec": {
   "display_name": "Python 3 (ipykernel)",
   "language": "python",
   "name": "python3"
  },
  "language_info": {
   "codemirror_mode": {
    "name": "ipython",
    "version": 3
   },
   "file_extension": ".py",
   "mimetype": "text/x-python",
   "name": "python",
   "nbconvert_exporter": "python",
   "pygments_lexer": "ipython3",
   "version": "3.10.10"
  }
 },
 "nbformat": 4,
 "nbformat_minor": 5
}
